
        {
            "cells": [
          {
           "cell_type": "code",
           "metadata": {},
            "execution_count": null, "outputs": [], 
           "source": ["#r \"nuget: Deedle\"\n",
"#r \"nuget: FSharp.Stats\"\n",
"#r \"nuget: Newtonsoft.JSON\"\n",
"#r \"nuget: Plotly.NET, 2.0.0-preview.6\"\n",
"#r \"nuget: Plotly.NET.Interactive, 2.0.0-preview.6\"\n",
"#r \"nuget: FSharp.Data\"\n"]
          }
,
          {
           "cell_type": "markdown",
           "metadata": {},
           
           "source": ["[![Binder](https://fslab.org/images/badge-binder.svg)](https://mybinder.org/v2/gh/fslaborg/fslaborg.github.io/gh-pages?filepath=content/tutorials/005_testing_t-test.ipynb)\u0026emsp;\n",
"[![Script](https://fslab.org/images/badge-script.svg)](https://fslab.org/content/tutorials/005_testing_t-test.fsx)\u0026emsp;\n",
"[![Notebook](https://fslab.org/images/badge-notebook.svg)](https://fslab.org/content/tutorials/005_testing_t-test.ipynb)\n",
"\n",
"# Testing with FSharp.Stats I: t-test\n",
"\n",
"## Getting started: The t-test\n",
"\n",
"_I love statistical testing_ - A sentence math teachers don\u0027t hear often during their time at school. In this tutorial we aim to give you a short introduction of the theory and how to \n",
"perform the most used statistical test: the t-test\n",
"\n",
"Suppose you have measured the length of some leaves of two trees and you want to find out if the average length of the leaves is the same or if they differ from each other. \n",
"If you knew the population distributions of all leaves hanging on both trees the task would be easy, but since we only have samples from both populations, we have to apply a statistical test.\n",
"Student\u0027s t-test can be applied to test whether two samples have the same mean (H0), or if the means are different (H1). There are two requirements to the samples that have to be fulfilled:\n",
"\n",
"1. The variances of both samples have to be equal.\n",
"\n",
"2. The samples have to follow a normal distribution.\n",
"\n",
"_Note: Slight deviations from these requirements can be accepted but strong violations result in an inflated false positive rate. If the variances are not equal a Welch test can be performed._\n",
"_There are some tests out there to check if the variances are equal or if the sample follows a normal distribution, but their effectiveness is discussed._\n",
"_You always should consider the shape of the theoretical background distribution, instead of relying on preliminary tests rashly._\n",
"\n",
"\n",
"The t-test is one of the most used statistical tests in datascience. It is used to compare two samples in terms of statistical significance. \n",
"Often a significance threshold (or \u0026alpha; level) of 0.05 is chosen to define if a p value is defined as statistically significant. A p value describes how likely it is to observe an effect\n",
"at least as extreme as you observed (in the comparison) by chance. Low p values indicate a high confidence to state that there is a real difference and the observed difference is not caused by chance.\n",
"\n",
"\n"]
          }
,
          {
           "cell_type": "code",
           "metadata": {},
            "execution_count": 3, "outputs": [], 
           "source": ["#r \"nuget: FSharp.Data\"\n",
"#r \"nuget: Deedle\"\n",
"#r \"nuget: FSharp.Stats, 0.4.2\"\n",
"#r \"nuget: Plotly.NET, 2.0.0-preview.6\"\n",
"\n",
"open FSharp.Data\n",
"open Deedle\n",
"open Plotly.NET\n"]
          }
,
          {
           "cell_type": "markdown",
           "metadata": {},
           
           "source": ["For our purposes, we will use the housefly wing length dataset (from _Sokal et al., 1955, A morphometric analysis of DDT-resistant and non-resistant housefly strains_).\n",
"Head over to the [Getting started](001_getting-started.html#Data-access) tutorial where it is shown how to import datasets in a simple way.\n",
"\n",
"\n",
"\n"]
          }
,
          {
           "cell_type": "code",
           "metadata": {},
            "execution_count": 4, "outputs": [], 
           "source": ["// We retrieve the dataset via FSharp.Data:\n",
"let rawDataHousefly = Http.RequestString @\"https://raw.githubusercontent.com/fslaborg/datasets/main/data/HouseflyWingLength.txt\"\n",
"\n",
"let dataHousefly : seq\u003cfloat\u003e = \n",
"    Frame.ReadCsvString(rawDataHousefly, false, schema = \"wing length (mm * 10^1)\")\n",
"    |\u003e Frame.getCol \"wing length (mm * 10^1)\"\n",
"    |\u003e Series.values\n",
"    // We convert the values to mm\n",
"    |\u003e Seq.map (fun x -\u003e x / 10.)\n"]
          }
,
          {
           "cell_type": "markdown",
           "metadata": {},
           
           "source": ["Let us first have a look at the sample data with help of a boxplot. As shown below, the average wingspan is around 4.5 with variability ranges between 3.5 and 5.5.\n",
"\n",
"\n",
"\n"]
          }
,
          {
           "cell_type": "code",
           "metadata": {},
            "execution_count": 5, "outputs": [], 
           "source": ["let boxPlot = \n",
"    Chart.BoxPlot(y = dataHousefly, Name = \"housefly\", Boxpoints = StyleParam.Boxpoints.All, Jitter = 0.2)\n",
"    |\u003e Chart.withY_AxisStyle \"wing length [mm]\"\n"]
          }
,
          {
           "cell_type": "code",
           "metadata": {},
            "execution_count": null, "outputs": [
          {
           "data": {
            "text/html": ["\u003cdiv id=\"08200df7-a243-4027-8b49-663f22c9ab52\" style=\"width: 600px; height: 600px;\"\u003e\u003c!-- Plotly chart will be drawn inside this DIV --\u003e\u003c/div\u003e",
"\u003cscript type=\"text/javascript\"\u003e",
"",
"            var renderPlotly_08200df7a24340278b49663f22c9ab52 = function() {",
"            var fsharpPlotlyRequire = requirejs.config({context:\u0027fsharp-plotly\u0027,paths:{plotly:\u0027https://cdn.plot.ly/plotly-latest.min\u0027}}) || require;",
"            fsharpPlotlyRequire([\u0027plotly\u0027], function(Plotly) {",
"",
"            var data = [{\"type\":\"box\",\"y\":[3.6,3.7,3.8,3.8,3.9,3.9,4.0,4.0,4.0,4.0,4.1,4.1,4.1,4.1,4.1,4.1,4.2,4.2,4.2,4.2,4.2,4.2,4.2,4.3,4.3,4.3,4.3,4.3,4.3,4.3,4.3,4.4,4.4,4.4,4.4,4.4,4.4,4.4,4.4,4.4,4.5,4.5,4.5,4.5,4.5,4.5,4.5,4.5,4.5,4.5,4.6,4.6,4.6,4.6,4.6,4.6,4.6,4.6,4.6,4.6,4.7,4.7,4.7,4.7,4.7,4.7,4.7,4.7,4.7,4.8,4.8,4.8,4.8,4.8,4.8,4.8,4.8,4.9,4.9,4.9,4.9,4.9,4.9,4.9,5.0,5.0,5.0,5.0,5.0,5.0,5.1,5.1,5.1,5.1,5.2,5.2,5.3,5.3,5.4,5.5],\"boxpoints\":\"all\",\"jitter\":0.2,\"name\":\"housefly\",\"marker\":{}}];",
"            var layout = {\"yaxis\":{\"title\":\"wing length [mm]\"}};",
"            var config = {};",
"            Plotly.newPlot(\u002708200df7-a243-4027-8b49-663f22c9ab52\u0027, data, layout, config);",
"});",
"            };",
"            if ((typeof(requirejs) !==  typeof(Function)) || (typeof(requirejs.config) !== typeof(Function))) {",
"                var script = document.createElement(\"script\");",
"                script.setAttribute(\"src\", \"https://cdnjs.cloudflare.com/ajax/libs/require.js/2.3.6/require.min.js\");",
"                script.onload = function(){",
"                    renderPlotly_08200df7a24340278b49663f22c9ab52();",
"                };",
"                document.getElementsByTagName(\"head\")[0].appendChild(script);",
"            }",
"            else {",
"                renderPlotly_08200df7a24340278b49663f22c9ab52();",
"            }",
"\u003c/script\u003e",
""]
        },
           "execution_count": null,
           "metadata": {},
           "output_type": "execute_result"
          }], 
           "source": ["boxPlot\n"]
          }
,
          {
           "cell_type": "markdown",
           "metadata": {},
           
           "source": ["## One-sample t-test\n",
"\n",
"We want to analyze if an estimated expected value differs from the sample above. Therefore, we perform a one-sample t-test which covers exactly this situation.\n",
"\n",
"\n",
"\n",
"\u003cimg style=\"max-width:75%\" src=\"../../images/OneSampleTTest.png\"\u003e\u003c/img\u003e\n",
"\n",
"Fig. 1: **The one-sample t-test** The dashed orange line depicts the distribution of our sample, the green bar the expected value to test against.\n",
"\n",
"\n"]
          }
,
          {
           "cell_type": "code",
           "metadata": {},
            "execution_count": 7, "outputs": [
          {
           "data": {
            "text/plain": ["{ Statistic = 1.275624919",
"  DegreesOfFreedom = 99.0",
"  PValueLeft = 0.8974634108",
"  PValueRight = 0.1025365892",
"  PValue = 0.2050731784 }"]
        },
           "execution_count": 7,
           "metadata": {},
           "output_type": "execute_result"
          }], 
           "source": ["open FSharp.Stats\n",
"open FSharp.Stats.Testing\n",
"\n",
"// The testing module in FSharp.Stats require vectors as input types, thus we transform our array into a vector:\n",
"let vectorDataHousefly = vector dataHousefly\n",
"\n",
"// The expected value of our population.\n",
"let expectedValue = 4.5\n",
"\n",
"// Perform the one-sample t-test with our vectorized data and our exptected value as parameters.\n",
"let oneSampleResult = TTest.oneSample vectorDataHousefly expectedValue\n"]
          }
,
          {
           "cell_type": "markdown",
           "metadata": {},
           
           "source": ["The function returns a `TTestStatistics` type. If contains the fields \n",
"\n",
"  - `Statistic`: defines the exact teststatistic\n",
"\n",
"  - `DegreesOfFreedom`: defines the degrees of freedom\n",
"\n",
"  - `PValueLeft`: the left-tailed p-value \n",
"\n",
"  - `PValueRight`: the right-tailed p-value\n",
"\n",
"  - `PValue`: the two-tailed p-value\n",
"\n",
"As we can see, when looking at the two-tailed p-value, our sample does _not_ differ significantly from our expected value. This matches our visual impression of the boxplot, where the sample distribution \n",
"is centered around 4.5.\n",
"\n",
"\n",
"## Two-sample t-test (unpaired data)\n",
"\n",
"The t-test is most often used in its two-sample variant. Here, two samples, independent from each other, are compared. It is required that both samples are normally distributed.\n",
"In this next example, we are going to see if the gender of college athletes determines the number of concussions suffered over 3 years (from: _Covassin et al., 2003, Sex Differences and the Incidence of Concussions Among Collegiate Athletes, Journal of Athletic Training_).\n",
"\n",
"\n",
"\u003cimg style=\"max-width:75%\" src=\"../../images/TwoSampleTTest.png\"\u003e\u003c/img\u003e\n",
"\n",
"Fig. 2: **The two-sample t-test** The dashed orange and green lines depict the distribution of both samples that are compared with each other.\n",
"\n",
"\n"]
          }
,
          {
           "cell_type": "code",
           "metadata": {},
            "execution_count": 10, "outputs": [], 
           "source": ["open System.Text\n",
"\n",
"let rawDataAthletes = Http.RequestString @\"https://raw.githubusercontent.com/fslaborg/datasets/main/data/ConcussionsInMaleAndFemaleCollegeAthletes_adapted.tsv\"\n",
"\n",
"let dataAthletesAsStream = new System.IO.MemoryStream(rawDataAthletes |\u003e Encoding.UTF8.GetBytes)\n",
"\n",
"// The schema helps us setting column keys.\n",
"let dataAthletesAsFrame = Frame.ReadCsv(dataAthletesAsStream, hasHeaders = false, separators = \"\\t\", schema = \"Gender, Sports, Year, Concussion, Count\")\n",
"\n",
"dataAthletesAsFrame.Print()\n",
"\n",
"// We need to filter out the columns and rows we don\u0027t need. Thus, we filter out the rows where the athletes suffered no concussions  \n",
"// as well as filter out the columns without the number of concussions.\n",
"let dataAthletesFemale, dataAthletesMale =\n",
"    let getAthleteGenderData gender =\n",
"        let dataAthletesOnlyConcussion =\n",
"            dataAthletesAsFrame\n",
"            |\u003e Frame.filterRows (fun r objS -\u003e objS.GetAs \"Concussion\")\n",
"        let dataAthletesGenderFrame =\n",
"            dataAthletesOnlyConcussion\n",
"            |\u003e Frame.filterRows (fun r objS -\u003e objS.GetAs \"Gender\" = gender)\n",
"        dataAthletesGenderFrame\n",
"        |\u003e Frame.getCol \"Count\" \n",
"        |\u003e Series.values\n",
"        |\u003e vector\n",
"    getAthleteGenderData \"Female\", getAthleteGenderData \"Male\"\n",
"    \n"]
          }
,
          {
           "cell_type": "markdown",
           "metadata": {},
           
           "source": ["Again, let\u0027s check our data via boxplots before we proceed on comparing them.\n",
"\n",
"\n"]
          }
,
          {
           "cell_type": "code",
           "metadata": {},
            "execution_count": 11, "outputs": [], 
           "source": ["let boxPlot2 = \n",
"    [\n",
"        Chart.BoxPlot(y = dataAthletesFemale, Name = \"female college athletes\", Boxpoints = StyleParam.Boxpoints.All, Jitter = 0.2)\n",
"        Chart.BoxPlot(y = dataAthletesMale, Name = \"male college athletes\", Boxpoints = StyleParam.Boxpoints.All, Jitter = 0.2)\n",
"    ]\n",
"    |\u003e Chart.Combine\n",
"    |\u003e Chart.withY_AxisStyle \"number of concussions over 3 years\"\n"]
          }
,
          {
           "cell_type": "code",
           "metadata": {},
            "execution_count": null, "outputs": [
          {
           "data": {
            "text/html": ["\u003cdiv id=\"760c788d-e83f-4e47-af85-62f7ad3cce1c\" style=\"width: 600px; height: 600px;\"\u003e\u003c!-- Plotly chart will be drawn inside this DIV --\u003e\u003c/div\u003e",
"\u003cscript type=\"text/javascript\"\u003e",
"",
"            var renderPlotly_760c788de83f4e47af8562f7ad3cce1c = function() {",
"            var fsharpPlotlyRequire = requirejs.config({context:\u0027fsharp-plotly\u0027,paths:{plotly:\u0027https://cdn.plot.ly/plotly-latest.min\u0027}}) || require;",
"            fsharpPlotlyRequire([\u0027plotly\u0027], function(Plotly) {",
"",
"            var data = [{\"type\":\"box\",\"y\":[51.0,47.0,60.0,12.0,7.0,7.0,16.0,30.0,26.0,9.0,10.0,28.0,1.0,0.0,0.0],\"boxpoints\":\"all\",\"jitter\":0.2,\"name\":\"female college athletes\",\"marker\":{}},{\"type\":\"box\",\"y\":[34.0,27.0,40.0,19.0,15.0,17.0,8.0,21.0,20.0,22.0,6.0,25.0,0.0,0.0,0.0],\"boxpoints\":\"all\",\"jitter\":0.2,\"name\":\"male college athletes\",\"marker\":{}}];",
"            var layout = {\"yaxis\":{\"title\":\"number of concussions over 3 years\"}};",
"            var config = {};",
"            Plotly.newPlot(\u0027760c788d-e83f-4e47-af85-62f7ad3cce1c\u0027, data, layout, config);",
"});",
"            };",
"            if ((typeof(requirejs) !==  typeof(Function)) || (typeof(requirejs.config) !== typeof(Function))) {",
"                var script = document.createElement(\"script\");",
"                script.setAttribute(\"src\", \"https://cdnjs.cloudflare.com/ajax/libs/require.js/2.3.6/require.min.js\");",
"                script.onload = function(){",
"                    renderPlotly_760c788de83f4e47af8562f7ad3cce1c();",
"                };",
"                document.getElementsByTagName(\"head\")[0].appendChild(script);",
"            }",
"            else {",
"                renderPlotly_760c788de83f4e47af8562f7ad3cce1c();",
"            }",
"\u003c/script\u003e",
""]
        },
           "execution_count": null,
           "metadata": {},
           "output_type": "execute_result"
          }], 
           "source": ["boxPlot2\n"]
          }
,
          {
           "cell_type": "markdown",
           "metadata": {},
           
           "source": ["Both samples are tested against using `FSharp.Stats.Testing.TTest.twoSample` and assuming equal variances.\n",
"\n",
"\n"]
          }
,
          {
           "cell_type": "code",
           "metadata": {},
            "execution_count": 13, "outputs": [
          {
           "data": {
            "text/plain": ["{ Statistic = 0.5616104016",
"  DegreesOfFreedom = 28.0",
"  PValueLeft = 0.7105752703",
"  PValueRight = 0.2894247297",
"  PValue = 0.5788494593 }"]
        },
           "execution_count": 13,
           "metadata": {},
           "output_type": "execute_result"
          }], 
           "source": ["// We test both samples against each other, assuming equal variances.\n",
"let twoSampleResult = TTest.twoSample true dataAthletesFemale dataAthletesMale\n"]
          }
,
          {
           "cell_type": "markdown",
           "metadata": {},
           
           "source": ["With a p value of 0.58 the t-test indicate that there\u0027s no significant difference between the number of concussions over 3 years between male and female college athletes.\n",
"\n",
"\n",
"## Two-sample t-test (paired data)\n",
"\n",
"Paired data describes data where each value from the one sample is connected with its respective value from the other sample.  \n",
"In the next case, the endurance performance of several persons in a normal situation (control situation) is compared to their performance after ingesting a specific amount of caffeine*. \n",
"It is the same person that performs the exercise but under different conditions. Thus, the resulting values of the persons under each condition are compared.  \n",
"Another example are time-dependent experiments: One measures, e.g., the condition of cells stressed with a high surrounding temperature in the beginning and after 30 minutes. \n",
"The measured cells are always the same, yet their conditions might differ.\n",
"Due to the connectivity of the sample pairs the samples must be of equal length.\n",
"\n",
"*Source: W.J. Pasman, M.A. van Baak, A.E. Jeukendrup, A. de Haan (1995). _The Effect of Different Dosages of Caffeine on Endurance Performance Time_, International Journal of Sports Medicine, Vol. 16, pp225-230.\n",
"\n",
"\n"]
          }
,
          {
           "cell_type": "code",
           "metadata": {},
            "execution_count": 15, "outputs": [], 
           "source": ["let rawDataCaffeine = Http.RequestString @\"https://raw.githubusercontent.com/fslaborg/datasets/main/data/CaffeineAndEndurance(wide)_adapted.tsv\"\n",
"\n",
"let dataCaffeineAsStream = new System.IO.MemoryStream(rawDataCaffeine |\u003e Encoding.UTF8.GetBytes)\n",
"let dataCaffeineAsFrame = Frame.ReadCsv(dataCaffeineAsStream, hasHeaders = false, separators = \"\\t\", schema = \"Subject ID, no Dose, 5 mg, 9 mg, 13 mg\")\n",
"\n",
"// We want to compare the subjects\u0027 performances under the influence of 13 mg caffeine and in the control situation.\n",
"let dataCaffeineNoDose, dataCaffeine13mg =\n",
"    let getVectorFromCol col = \n",
"        dataCaffeineAsFrame\n",
"        |\u003e Frame.getCol col\n",
"        |\u003e Series.values\n",
"        |\u003e vector\n",
"    getVectorFromCol \"no Dose\", getVectorFromCol \"13 mg\"\n",
"\n",
"// Transforming our data into a chart.\n",
"let visualizePairedData = \n",
"    Seq.zip dataCaffeineNoDose dataCaffeine13mg\n",
"    |\u003e Seq.mapi (fun i (control,treatment) -\u003e \n",
"        let participant = \"Person \" + string i \n",
"        Chart.Line([\"no dose\", control; \"13 mg\", treatment], Name = participant)\n",
"        )\n",
"    |\u003e Chart.Combine\n",
"    |\u003e Chart.withX_AxisStyle \"\"\n",
"    |\u003e Chart.withY_AxisStyle(\"endurance performance\", MinMax = (0.,100.))\n"]
          }
,
          {
           "cell_type": "code",
           "metadata": {},
            "execution_count": null, "outputs": [
          {
           "data": {
            "text/html": ["\u003cdiv id=\"0e4a24f2-69d6-49c7-a9ed-2c6513001f20\" style=\"width: 600px; height: 600px;\"\u003e\u003c!-- Plotly chart will be drawn inside this DIV --\u003e\u003c/div\u003e",
"\u003cscript type=\"text/javascript\"\u003e",
"",
"            var renderPlotly_0e4a24f269d649c7a9ed2c6513001f20 = function() {",
"            var fsharpPlotlyRequire = requirejs.config({context:\u0027fsharp-plotly\u0027,paths:{plotly:\u0027https://cdn.plot.ly/plotly-latest.min\u0027}}) || require;",
"            fsharpPlotlyRequire([\u0027plotly\u0027], function(Plotly) {",
"",
"            var data = [{\"type\":\"scatter\",\"x\":[\"no dose\",\"13 mg\"],\"y\":[36.05,37.55],\"mode\":\"lines\",\"line\":{},\"name\":\"Person 0\",\"marker\":{}},{\"type\":\"scatter\",\"x\":[\"no dose\",\"13 mg\"],\"y\":[52.47,59.3],\"mode\":\"lines\",\"line\":{},\"name\":\"Person 1\",\"marker\":{}},{\"type\":\"scatter\",\"x\":[\"no dose\",\"13 mg\"],\"y\":[56.55,79.12],\"mode\":\"lines\",\"line\":{},\"name\":\"Person 2\",\"marker\":{}},{\"type\":\"scatter\",\"x\":[\"no dose\",\"13 mg\"],\"y\":[45.2,58.33],\"mode\":\"lines\",\"line\":{},\"name\":\"Person 3\",\"marker\":{}},{\"type\":\"scatter\",\"x\":[\"no dose\",\"13 mg\"],\"y\":[35.25,70.54],\"mode\":\"lines\",\"line\":{},\"name\":\"Person 4\",\"marker\":{}},{\"type\":\"scatter\",\"x\":[\"no dose\",\"13 mg\"],\"y\":[66.38,69.47],\"mode\":\"lines\",\"line\":{},\"name\":\"Person 5\",\"marker\":{}},{\"type\":\"scatter\",\"x\":[\"no dose\",\"13 mg\"],\"y\":[40.57,46.48],\"mode\":\"lines\",\"line\":{},\"name\":\"Person 6\",\"marker\":{}},{\"type\":\"scatter\",\"x\":[\"no dose\",\"13 mg\"],\"y\":[57.15,66.35],\"mode\":\"lines\",\"line\":{},\"name\":\"Person 7\",\"marker\":{}},{\"type\":\"scatter\",\"x\":[\"no dose\",\"13 mg\"],\"y\":[28.34,36.2],\"mode\":\"lines\",\"line\":{},\"name\":\"Person 8\",\"marker\":{}}];",
"            var layout = {\"xaxis\":{\"title\":\"\"},\"yaxis\":{\"title\":\"endurance performance\",\"range\":[0.0,100.0]}};",
"            var config = {};",
"            Plotly.newPlot(\u00270e4a24f2-69d6-49c7-a9ed-2c6513001f20\u0027, data, layout, config);",
"});",
"            };",
"            if ((typeof(requirejs) !==  typeof(Function)) || (typeof(requirejs.config) !== typeof(Function))) {",
"                var script = document.createElement(\"script\");",
"                script.setAttribute(\"src\", \"https://cdnjs.cloudflare.com/ajax/libs/require.js/2.3.6/require.min.js\");",
"                script.onload = function(){",
"                    renderPlotly_0e4a24f269d649c7a9ed2c6513001f20();",
"                };",
"                document.getElementsByTagName(\"head\")[0].appendChild(script);",
"            }",
"            else {",
"                renderPlotly_0e4a24f269d649c7a9ed2c6513001f20();",
"            }",
"\u003c/script\u003e",
""]
        },
           "execution_count": null,
           "metadata": {},
           "output_type": "execute_result"
          }], 
           "source": ["visualizePairedData\n"]
          }
,
          {
           "cell_type": "markdown",
           "metadata": {},
           
           "source": ["The function for pairwise t-tests can be found at `FSharp.Stats.Testing.TTest.twoSamplePaired`. Note, that the order of the elements in each vector must be the same, so that a pairwise comparison can be performed.\n",
"\n",
"\n"]
          }
,
          {
           "cell_type": "code",
           "metadata": {},
            "execution_count": 17, "outputs": [
          {
           "data": {
            "text/plain": ["{ Statistic = 3.252507672",
"  DegreesOfFreedom = 8.0",
"  PValueLeft = 0.9941713794",
"  PValueRight = 0.005828620625",
"  PValue = 0.01165724125 }"]
        },
           "execution_count": 17,
           "metadata": {},
           "output_type": "execute_result"
          }], 
           "source": ["let twoSamplePairedResult = TTest.twoSamplePaired dataCaffeineNoDose dataCaffeine13mg\n"]
          }
,
          {
           "cell_type": "markdown",
           "metadata": {},
           
           "source": ["The two-sample paired t-test suggests a significant difference beween caffeine and non-caffeine treatment groups with a p-value of 0.012. \n",
"\n",
"\n"]
          }],
            "metadata": {
            "kernelspec": {"display_name": ".NET (F#)", "language": "F#", "name": ".net-fsharp"},
            "langauge_info": {
        "file_extension": ".fs",
        "mimetype": "text/x-fsharp",
        "name": "C#",
        "pygments_lexer": "fsharp",
        "version": "4.5"
        }
        },
            "nbformat": 4,
            "nbformat_minor": 1
        }
        

