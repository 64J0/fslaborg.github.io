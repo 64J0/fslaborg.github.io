
        {
            "cells": [
          {
           "cell_type": "markdown",
           "metadata": {},
           
           "source": ["# Here is a list of usefull external (non-fslab) F# resources:\n",
"\n",
"## Learning and documentation\n",
"- Official F# documentation: https://docs.microsoft.com/en-us/dotnet/fsharp/\n",
"- F# module on Microsoft LEARN: https://docs.microsoft.com/en-us/learn/modules/fsharp-first-steps/\n",
"- Website of the F# Software Foundation: https://fsharp.org/\n",
"\n",
"## Blogs \u0026 other content\n",
"- fsharp for fun and profit: https://fsharpforfunandprofit.com/\n",
"- fsharp weekly: https://sergeytihon.com/category/f-weekly/\n",
"\n",
"\n"]
          }],
            "metadata": {
            "kernelspec": {"display_name": ".NET (F#)", "language": "F#", "name": ".net-fsharp"},
            "langauge_info": {
        "file_extension": ".fs",
        "mimetype": "text/x-fsharp",
        "name": "C#",
        "pygments_lexer": "fsharp",
        "version": "4.5"
        }
        },
            "nbformat": 4,
            "nbformat_minor": 1
        }
        

