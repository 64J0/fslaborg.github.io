
        {
            "cells": [
          {
           "cell_type": "code",
           "metadata": {},
            "execution_count": null, "outputs": [], 
           "source": ["#r \"nuget: Deedle\"\n",
"#r \"nuget: FSharp.Stats\"\n",
"#r \"nuget: Newtonsoft.JSON\"\n",
"#r \"nuget: Plotly.NET, 2.0.0-preview.6\"\n",
"#r \"nuget: Plotly.NET.Interactive, 2.0.0-preview.6\"\n",
"#r \"nuget: FSharp.Data\"\n"]
          }
,
          {
           "cell_type": "markdown",
           "metadata": {},
           
           "source": ["[![Binder](https://fslab.org/images/badge-binder.svg)](https://mybinder.org/v2/gh/fslaborg/fslaborg.github.io/gh-pages?filepath=content/tutorials/002_clustering_kMeans.ipynb)\u0026emsp;\n",
"[![Script](https://fslab.org/images/badge-script.svg)](https://fslab.org/content/tutorials/002_clustering_kMeans.fsx)\u0026emsp;\n",
"[![Notebook](https://fslab.org/images/badge-notebook.svg)](https://fslab.org/content/tutorials/002_clustering_kMeans.ipynb)\n",
"\n",
"\n",
"# Clustering with FSharp.Stats I: k-means\n",
"\n",
"_Summary:_ This tutorial demonstrates k means clustering with FSharp.Stats and how to visualize the results with Plotly.NET.\n",
"\n",
"## Introduction\n",
"\n",
"Clustering methods can be used to group elements of a huge data set based on their similarity. Elements sharing similar properties cluster together and can be reported as coherent group.\n",
"k-means clustering is a frequently used technique, that segregates the given data into k clusters with similar elements grouped in each cluster, but high variation between the clusters.\n",
"The algorithm to cluster a n-dimensional dataset can be fully described in the following 4 steps:\n",
"\n",
"  1. Initialize k n-dimensional centroids, that are randomly distributed over the data range.\n",
"  2. Calculate the distance of each point to all centroids and assign it to the nearest one.\n",
"  3. Reposition all centroids by calculating the average point of each cluster.\n",
"  4. Repeat step 2-3 until convergence.\n",
"\n",
"### Centroid initiation\n",
"\n",
"Since the random initiation of centroids may influences the result, a second initiation algorithm is proposed (_cvmax_), that extract a set of medians from the dimension with maximum variance to initialize the centroids. \n",
"\n",
"### Distance measure\n",
"\n",
"While several distance metrics can be used (e.g. Manhattan distance or correlation measures) it is preferred to use Euclidean distance.\n",
"It is recommended to use a squared Euclidean distance. To not calculate the square root does not change the result but saves computation time.\n",
"\n",
"\u003ccenter\u003e\n",
"\u003cimg style=\"max-width:75%\" src=\"../../images/kMeans.png\" class=\"center\"\u003e\u003c/img\u003e\n",
"\u003c/center\u003e\n",
"\u003cbr\u003e\n",
"\n",
"\n",
"For demonstration of k-means clustering, the classic iris data set is used, which consists of 150 records, each of which contains four measurements and a species identifier.\n",
"\n",
"## Referencing packages\n",
"\n",
"```fsharp\n",
"// Packages hosted by the Fslab community\n",
"#r \"nuget: Deedle\"\n",
"#r \"nuget: FSharp.Stats\"\n",
"// third party .net packages \n",
"#r \"nuget: Plotly.NET, 2.0.0-preview.6\"\n",
"#r \"nuget: Plotly.NET.Interactive, 2.0.0-preview.6\"\n",
"#r \"nuget: FSharp.Data\"\n",
"```\n",
"\n",
"\n",
"## Loading data\n",
"\n"]
          }
,
          {
           "cell_type": "code",
           "metadata": {},
            "execution_count": 3, "outputs": [
          {
           "data": {
            "text/plain": ["sepal_length sepal_width petal_length petal_width species    ",
"0   -\u003e 5.5          2.4         3.8          1.1         versicolor ",
"1   -\u003e 4.9          3.1         1.5          0.1         setosa     ",
"2   -\u003e 7.6          3           6.6          2.1         virginica  ",
"3   -\u003e 5.6          2.8         4.9          2           virginica  ",
"4   -\u003e 6.1          3           4.9          1.8         virginica  ",
"5   -\u003e 6.3          3.4         5.6          2.4         virginica  ",
"6   -\u003e 6.2          2.8         4.8          1.8         virginica  ",
"7   -\u003e 7.2          3.2         6            1.8         virginica  ",
"8   -\u003e 6.9          3.2         5.7          2.3         virginica  ",
"9   -\u003e 4.9          3           1.4          0.2         setosa     ",
"10  -\u003e 5.4          3.9         1.7          0.4         setosa     ",
"11  -\u003e 7            3.2         4.7          1.4         versicolor ",
"12  -\u003e 6.1          3           4.6          1.4         versicolor ",
"13  -\u003e 5.4          3.7         1.5          0.2         setosa     ",
"14  -\u003e 7.2          3.6         6.1          2.5         virginica  ",
":      ...          ...         ...          ...         ...        ",
"135 -\u003e 7.7          3.8         6.7          2.2         virginica  ",
"136 -\u003e 5.7          3           4.2          1.2         versicolor ",
"137 -\u003e 6.4          2.7         5.3          1.9         virginica  ",
"138 -\u003e 5.8          2.7         3.9          1.2         versicolor ",
"139 -\u003e 5            2.3         3.3          1           versicolor ",
"140 -\u003e 6.7          3.1         4.4          1.4         versicolor ",
"141 -\u003e 6.3          3.3         6            2.5         virginica  ",
"142 -\u003e 4.9          2.4         3.3          1           versicolor ",
"143 -\u003e 5.8          2.8         5.1          2.4         virginica  ",
"144 -\u003e 5            3.3         1.4          0.2         setosa     ",
"145 -\u003e 7.7          2.6         6.9          2.3         virginica  ",
"146 -\u003e 5.7          2.6         3.5          1           versicolor ",
"147 -\u003e 5.9          3           5.1          1.8         virginica  ",
"148 -\u003e 6.8          3.2         5.9          2.3         virginica  ",
"149 -\u003e 5            3.6         1.4          0.2         setosa"]
        },
           "execution_count": 3,
           "metadata": {},
           "output_type": "execute_result"
          }], 
           "source": ["open FSharp.Data\n",
"open Deedle\n",
"\n",
"// Retrieve data using the FSharp.Data package and read it as dataframe using the Deedle package\n",
"let rawData = Http.RequestString @\"https://raw.githubusercontent.com/fslaborg/datasets/main/data/iris.csv\"\n",
"let df = Frame.ReadCsvString(rawData)\n",
"\n",
"df.Print()\n"]
          }
,
          {
           "cell_type": "markdown",
           "metadata": {},
           
           "source": ["Let\u0027s take a first look at the data with heatmaps using Plotly.NET. Each of the 150 records consists of four measurements and a species identifier. \n",
"Since the species identifier occur several times (_Iris-virginica_, _Iris-versicolor_, and _Iris-setosa_), we create unique labels by adding the rows index to the species identifier.\n",
"\n",
"\n"]
          }
,
          {
           "cell_type": "code",
           "metadata": {},
            "execution_count": 4, "outputs": [], 
           "source": ["open Plotly.NET\n",
"\n",
"let colNames = [\"sepal_length\";\"sepal_width\";\"petal_length\";\"petal_width\"]\n",
"\n",
"// isolate data as float [] []\n",
"let data = \n",
"    Frame.dropCol \"species\" df\n",
"    |\u003e Frame.toJaggedArray\n",
"\n",
"//isolate labels as seq\u003cstring\u003e\n",
"let labels = \n",
"    Frame.getCol \"species\" df\n",
"    |\u003e Series.values\n",
"    |\u003e Seq.mapi (fun i s -\u003e sprintf \"%s_%i\" s i)\n",
"\n",
"let dataChart = \n",
"    Chart.Heatmap(data,ColNames=colNames,RowNames=labels)\n",
"    // required to fit the species identifier on the left side of the heatmap\n",
"    |\u003e Chart.withMarginSize(Left=100.)\n",
"    |\u003e Chart.withTitle \"raw iris data\"\n",
"\n",
"// required to fit the species identifier on the left side of the heatmap\n"]
          }
,
          {
           "cell_type": "markdown",
           "metadata": {},
           
           "source": ["\u003ccenter\u003e\n"]
          }
,
          {
           "cell_type": "code",
           "metadata": {},
            "execution_count": null, "outputs": [
          {
           "data": {
            "text/html": ["\u003cdiv id=\"f72ce5f9-4455-4b44-b82f-81fed24aac9b\" style=\"width: 600px; height: 600px;\"\u003e\u003c!-- Plotly chart will be drawn inside this DIV --\u003e\u003c/div\u003e",
"\u003cscript type=\"text/javascript\"\u003e",
"",
"            var renderPlotly_f72ce5f944554b44b82f81fed24aac9b = function() {",
"            var fsharpPlotlyRequire = requirejs.config({context:\u0027fsharp-plotly\u0027,paths:{plotly:\u0027https://cdn.plot.ly/plotly-latest.min\u0027}}) || require;",
"            fsharpPlotlyRequire([\u0027plotly\u0027], function(Plotly) {",
"",
"            var data = [{\"type\":\"heatmap\",\"z\":[[5.5,2.4,3.8,1.1],[4.9,3.1,1.5,0.1],[7.6,3.0,6.6,2.1],[5.6,2.8,4.9,2.0],[6.1,3.0,4.9,1.8],[6.3,3.4,5.6,2.4],[6.2,2.8,4.8,1.8],[7.2,3.2,6.0,1.8],[6.9,3.2,5.7,2.3],[4.9,3.0,1.4,0.2],[5.4,3.9,1.7,0.4],[7.0,3.2,4.7,1.4],[6.1,3.0,4.6,1.4],[5.4,3.7,1.5,0.2],[7.2,3.6,6.1,2.5],[6.3,2.8,5.1,1.5],[5.4,3.4,1.7,0.2],[5.8,4.0,1.2,0.2],[5.0,3.2,1.2,0.2],[6.5,3.0,5.8,2.2],[5.6,3.0,4.1,1.3],[4.3,3.0,1.1,0.1],[6.7,3.3,5.7,2.5],[4.5,2.3,1.3,0.3],[5.7,2.5,5.0,2.0],[6.3,2.7,4.9,1.8],[5.6,3.0,4.5,1.5],[5.6,2.5,3.9,1.1],[4.9,3.1,1.5,0.1],[7.7,3.0,6.1,2.3],[6.3,2.5,5.0,1.9],[6.4,3.1,5.5,1.8],[4.7,3.2,1.6,0.2],[5.5,4.2,1.4,0.2],[5.9,3.2,4.8,1.8],[5.0,3.4,1.6,0.4],[5.4,3.4,1.5,0.4],[6.0,2.7,5.1,1.6],[5.6,2.9,3.6,1.3],[6.3,3.3,4.7,1.6],[5.1,2.5,3.0,1.1],[6.4,3.2,4.5,1.5],[5.1,3.7,1.5,0.4],[6.7,3.0,5.2,2.3],[6.2,2.9,4.3,1.3],[6.8,2.8,4.8,1.4],[7.7,2.8,6.7,2.0],[4.8,3.0,1.4,0.1],[6.2,3.4,5.4,2.3],[4.8,3.4,1.9,0.2],[6.7,2.5,5.8,1.8],[5.1,3.5,1.4,0.2],[6.7,3.0,5.0,1.7],[6.9,3.1,5.1,2.3],[5.8,2.7,5.1,1.9],[4.8,3.1,1.6,0.2],[5.5,2.6,4.4,1.2],[5.1,3.8,1.6,0.2],[5.7,4.4,1.5,0.4],[6.7,3.3,5.7,2.1],[4.4,3.0,1.3,0.2],[5.0,3.5,1.3,0.3],[6.9,3.1,5.4,2.1],[5.0,3.5,1.6,0.6],[6.5,3.2,5.1,2.0],[4.6,3.6,1.0,0.2],[6.1,2.8,4.7,1.2],[5.0,2.0,3.5,1.0],[5.8,2.7,4.1,1.0],[6.0,3.4,4.5,1.6],[4.9,2.5,4.5,1.7],[5.7,3.8,1.7,0.3],[7.9,3.8,6.4,2.0],[7.2,3.0,5.8,1.6],[5.5,3.5,1.3,0.2],[4.6,3.2,1.4,0.2],[6.4,2.9,4.3,1.3],[6.9,3.1,4.9,1.5],[6.0,2.9,4.5,1.5],[5.8,2.6,4.0,1.2],[5.2,2.7,3.9,1.4],[7.4,2.8,6.1,1.9],[5.5,2.4,3.7,1.0],[5.1,3.4,1.5,0.2],[4.8,3.4,1.6,0.2],[5.0,3.0,1.6,0.2],[5.7,2.8,4.1,1.3],[4.6,3.1,1.5,0.2],[5.9,3.0,4.2,1.5],[6.1,2.8,4.0,1.3],[5.7,2.8,4.5,1.3],[6.0,2.2,4.0,1.0],[5.4,3.0,4.5,1.5],[6.1,2.9,4.7,1.4],[5.4,3.9,1.3,0.4],[5.2,4.1,1.5,0.1],[7.3,2.9,6.3,1.8],[4.7,3.2,1.3,0.2],[6.3,2.5,4.9,1.5],[5.3,3.7,1.5,0.2],[6.6,2.9,4.6,1.3],[6.3,2.9,5.6,1.8],[4.4,3.2,1.3,0.2],[4.4,2.9,1.4,0.2],[6.5,3.0,5.5,1.8],[6.3,2.3,4.4,1.3],[4.9,3.1,1.5,0.1],[6.6,3.0,4.4,1.4],[6.4,2.8,5.6,2.1],[6.5,2.8,4.6,1.5],[5.5,2.3,4.0,1.3],[6.7,3.1,5.6,2.4],[6.4,3.2,5.3,2.3],[6.8,3.0,5.5,2.1],[5.7,2.9,4.2,1.3],[5.8,2.7,5.1,1.9],[6.0,3.0,4.8,1.8],[5.2,3.4,1.4,0.2],[6.7,3.1,4.7,1.5],[5.1,3.5,1.4,0.3],[5.5,2.5,4.0,1.3],[4.8,3.0,1.4,0.3],[5.1,3.8,1.5,0.3],[6.4,2.8,5.6,2.2],[5.0,3.4,1.5,0.2],[5.1,3.8,1.9,0.4],[5.1,3.3,1.7,0.5],[6.5,3.0,5.2,2.0],[5.6,2.7,4.2,1.3],[6.0,2.2,5.0,1.5],[7.1,3.0,5.9,2.1],[4.6,3.4,1.4,0.3],[6.1,2.6,5.6,1.4],[6.2,2.2,4.5,1.5],[5.2,3.5,1.5,0.2],[7.7,3.8,6.7,2.2],[5.7,3.0,4.2,1.2],[6.4,2.7,5.3,1.9],[5.8,2.7,3.9,1.2],[5.0,2.3,3.3,1.0],[6.7,3.1,4.4,1.4],[6.3,3.3,6.0,2.5],[4.9,2.4,3.3,1.0],[5.8,2.8,5.1,2.4],[5.0,3.3,1.4,0.2],[7.7,2.6,6.9,2.3],[5.7,2.6,3.5,1.0],[5.9,3.0,5.1,1.8],[6.8,3.2,5.9,2.3],[5.0,3.6,1.4,0.2]],\"x\":[\"sepal_length\",\"sepal_width\",\"petal_length\",\"petal_width\"],\"y\":[\"versicolor_0\",\"setosa_1\",\"virginica_2\",\"virginica_3\",\"virginica_4\",\"virginica_5\",\"virginica_6\",\"virginica_7\",\"virginica_8\",\"setosa_9\",\"setosa_10\",\"versicolor_11\",\"versicolor_12\",\"setosa_13\",\"virginica_14\",\"virginica_15\",\"setosa_16\",\"setosa_17\",\"setosa_18\",\"virginica_19\",\"versicolor_20\",\"setosa_21\",\"virginica_22\",\"setosa_23\",\"virginica_24\",\"virginica_25\",\"versicolor_26\",\"versicolor_27\",\"setosa_28\",\"virginica_29\",\"virginica_30\",\"virginica_31\",\"setosa_32\",\"setosa_33\",\"versicolor_34\",\"setosa_35\",\"setosa_36\",\"versicolor_37\",\"versicolor_38\",\"versicolor_39\",\"versicolor_40\",\"versicolor_41\",\"setosa_42\",\"virginica_43\",\"versicolor_44\",\"versicolor_45\",\"virginica_46\",\"setosa_47\",\"virginica_48\",\"setosa_49\",\"virginica_50\",\"setosa_51\",\"versicolor_52\",\"virginica_53\",\"virginica_54\",\"setosa_55\",\"versicolor_56\",\"setosa_57\",\"setosa_58\",\"virginica_59\",\"setosa_60\",\"setosa_61\",\"virginica_62\",\"setosa_63\",\"virginica_64\",\"setosa_65\",\"versicolor_66\",\"versicolor_67\",\"versicolor_68\",\"versicolor_69\",\"virginica_70\",\"setosa_71\",\"virginica_72\",\"virginica_73\",\"setosa_74\",\"setosa_75\",\"versicolor_76\",\"versicolor_77\",\"versicolor_78\",\"versicolor_79\",\"versicolor_80\",\"virginica_81\",\"versicolor_82\",\"setosa_83\",\"setosa_84\",\"setosa_85\",\"versicolor_86\",\"setosa_87\",\"versicolor_88\",\"versicolor_89\",\"versicolor_90\",\"versicolor_91\",\"versicolor_92\",\"versicolor_93\",\"setosa_94\",\"setosa_95\",\"virginica_96\",\"setosa_97\",\"versicolor_98\",\"setosa_99\",\"versicolor_100\",\"virginica_101\",\"setosa_102\",\"setosa_103\",\"virginica_104\",\"versicolor_105\",\"setosa_106\",\"versicolor_107\",\"virginica_108\",\"versicolor_109\",\"versicolor_110\",\"virginica_111\",\"virginica_112\",\"virginica_113\",\"versicolor_114\",\"virginica_115\",\"virginica_116\",\"setosa_117\",\"versicolor_118\",\"setosa_119\",\"versicolor_120\",\"setosa_121\",\"setosa_122\",\"virginica_123\",\"setosa_124\",\"setosa_125\",\"setosa_126\",\"virginica_127\",\"versicolor_128\",\"virginica_129\",\"virginica_130\",\"setosa_131\",\"virginica_132\",\"versicolor_133\",\"setosa_134\",\"virginica_135\",\"versicolor_136\",\"virginica_137\",\"versicolor_138\",\"versicolor_139\",\"versicolor_140\",\"virginica_141\",\"versicolor_142\",\"virginica_143\",\"setosa_144\",\"virginica_145\",\"versicolor_146\",\"virginica_147\",\"virginica_148\",\"setosa_149\"]}];",
"            var layout = {\"margin\":{\"l\":100.0},\"title\":\"raw iris data\"};",
"            var config = {};",
"            Plotly.newPlot(\u0027f72ce5f9-4455-4b44-b82f-81fed24aac9b\u0027, data, layout, config);",
"});",
"            };",
"            if ((typeof(requirejs) !==  typeof(Function)) || (typeof(requirejs.config) !== typeof(Function))) {",
"                var script = document.createElement(\"script\");",
"                script.setAttribute(\"src\", \"https://cdnjs.cloudflare.com/ajax/libs/require.js/2.3.6/require.min.js\");",
"                script.onload = function(){",
"                    renderPlotly_f72ce5f944554b44b82f81fed24aac9b();",
"                };",
"                document.getElementsByTagName(\"head\")[0].appendChild(script);",
"            }",
"            else {",
"                renderPlotly_f72ce5f944554b44b82f81fed24aac9b();",
"            }",
"\u003c/script\u003e",
""]
        },
           "execution_count": null,
           "metadata": {},
           "output_type": "execute_result"
          }], 
           "source": ["dataChart\n"]
          }
,
          {
           "cell_type": "markdown",
           "metadata": {},
           
           "source": ["\u003c/center\u003e\n",
"## Clustering\n",
"\n",
"The function that performs k-means clustering can be found at `FSharp.Stats.ML.Unsupervised.IterativeClustering.kmeans`. It requires four input parameters:\n",
"\n",
"  1. Centroid initiation method\n",
"  2. Distance measure (from `FSharp.Stats.ML.DistanceMetrics`)\n",
"  3. Data to cluster as `float [] []`, where each entry of the outer array is a sequence of coordinates\n",
"  4. _k_, the number of clusters that are desired\n",
"\n",
"\n",
"\n"]
          }
,
          {
           "cell_type": "code",
           "metadata": {},
            "execution_count": 6, "outputs": [], 
           "source": ["open FSharp.Stats\n",
"open FSharp.Stats.ML\n",
"open FSharp.Stats.ML.Unsupervised\n",
"\n",
"// For random cluster initiation use randomInitFactory:\n",
"let rnd = System.Random()\n",
"let randomInitFactory : IterativeClustering.CentroidsFactory\u003cfloat []\u003e = \n",
"    IterativeClustering.randomCentroids\u003cfloat []\u003e rnd\n",
"\n",
"// For assisted cluster initiation use cvmaxFactory:\n",
"//let cvmaxFactory : IterativeClustering.CentroidsFactory\u003cfloat []\u003e = \n",
"//    IterativeClustering.intitCVMAX\n",
"\n",
"let distanceFunction = DistanceMetrics.euclideanNaNSquared\n",
"  \n",
"let kmeansResult = \n",
"    IterativeClustering.kmeans distanceFunction randomInitFactory data 4\n"]
          }
,
          {
           "cell_type": "markdown",
           "metadata": {},
           
           "source": ["After all centroids are set, the affiliation of a datapoint to a cluster can be determined by minimizing the distance of the respective point to each of the centroids.\n",
"A function realizing the mapping is integrated in the `kmeansResult`.\n",
"\n",
"\n"]
          }
,
          {
           "cell_type": "code",
           "metadata": {},
            "execution_count": 7, "outputs": [], 
           "source": ["let clusteredIrisData =\n",
"    Seq.zip labels data\n",
"    |\u003e Seq.map (fun (species,dataPoint) -\u003e \n",
"        let clusterIndex,centroid = kmeansResult.Classifier dataPoint\n",
"        clusterIndex,species,dataPoint)\n",
"\n",
"// Each datapoint is given associated with its cluster index, species identifier, and coordinates.\n"]
          }
,
          {
           "cell_type": "code",
           "metadata": {},
            "execution_count": null, "outputs": [
          {
           "data": {
            "text/plain": ["\"1, \"versicolor_0\", [|5.5; 2.4; 3.8; 1.1|]",
"3, \"setosa_1\", [|4.9; 3.1; 1.5; 0.1|]",
"4, \"virginica_2\", [|7.6; 3.0; 6.6; 2.1|]",
"2, \"virginica_3\", [|5.6; 2.8; 4.9; 2.0|]",
"2, \"virginica_4\", [|6.1; 3.0; 4.9; 1.8|]",
"4, \"virginica_5\", [|6.3; 3.4; 5.6; 2.4|]",
"2, \"virginica_6\", [|6.2; 2.8; 4.8; 1.8|]",
" ... \""]
        },
           "execution_count": null,
           "metadata": {},
           "output_type": "execute_result"
          }], 
           "source": ["clusteredIrisData\n",
"|\u003e Seq.take 10\n",
"|\u003e Seq.map (fun (a,b,c) -\u003e sprintf \"%i, %A, %A\" a b c)\n",
"|\u003e String.concat \"\\n\"\n",
"|\u003e String.concat \"\u003cbr\u003e\"\n",
"|\u003e fun x -\u003e x + \"\u003cbr\u003e ... \"\n"]
          }
,
          {
           "cell_type": "markdown",
           "metadata": {},
           
           "source": ["## Visualization of the clustering result as heatmap\n",
"\n",
"The datapoints are sorted according to their associated cluster index and visualized in a combined heatmap.\n",
"\n"]
          }
,
          {
           "cell_type": "code",
           "metadata": {},
            "execution_count": 10, "outputs": [], 
           "source": ["let clusterChart =\n",
"    clusteredIrisData\n",
"    //sort all data points according to their assigned cluster number\n",
"    |\u003e Seq.sortBy (fun (clusterIndex,label,dataPoint) -\u003e clusterIndex)\n",
"    |\u003e Seq.unzip3\n",
"    |\u003e fun (_,labels,d) -\u003e \n",
"        Chart.Heatmap(d,ColNames=colNames,RowNames=labels)\n",
"        // required to fit the species identifier on the left side of the heatmap\n",
"        |\u003e Chart.withMarginSize(Left=100.)\n",
"        |\u003e Chart.withTitle \"clustered iris data (k-means clustering)\"\n"]
          }
,
          {
           "cell_type": "markdown",
           "metadata": {},
           
           "source": ["\u003ccenter\u003e\n",
"\n"]
          }
,
          {
           "cell_type": "code",
           "metadata": {},
            "execution_count": null, "outputs": [
          {
           "data": {
            "text/html": ["\u003cdiv id=\"273b6b47-1aa8-4c42-a17d-87a663f0157b\" style=\"width: 600px; height: 600px;\"\u003e\u003c!-- Plotly chart will be drawn inside this DIV --\u003e\u003c/div\u003e",
"\u003cscript type=\"text/javascript\"\u003e",
"",
"            var renderPlotly_273b6b471aa84c42a17d87a663f0157b = function() {",
"            var fsharpPlotlyRequire = requirejs.config({context:\u0027fsharp-plotly\u0027,paths:{plotly:\u0027https://cdn.plot.ly/plotly-latest.min\u0027}}) || require;",
"            fsharpPlotlyRequire([\u0027plotly\u0027], function(Plotly) {",
"",
"            var data = [{\"type\":\"heatmap\",\"z\":[[5.5,2.4,3.8,1.1],[5.6,3.0,4.1,1.3],[5.6,3.0,4.5,1.5],[5.6,2.5,3.9,1.1],[5.6,2.9,3.6,1.3],[5.1,2.5,3.0,1.1],[5.5,2.6,4.4,1.2],[5.0,2.0,3.5,1.0],[5.8,2.7,4.1,1.0],[4.9,2.5,4.5,1.7],[5.8,2.6,4.0,1.2],[5.2,2.7,3.9,1.4],[5.5,2.4,3.7,1.0],[5.7,2.8,4.1,1.3],[5.9,3.0,4.2,1.5],[6.1,2.8,4.0,1.3],[5.7,2.8,4.5,1.3],[6.0,2.2,4.0,1.0],[5.4,3.0,4.5,1.5],[5.5,2.3,4.0,1.3],[5.7,2.9,4.2,1.3],[5.5,2.5,4.0,1.3],[5.6,2.7,4.2,1.3],[5.7,3.0,4.2,1.2],[5.8,2.7,3.9,1.2],[5.0,2.3,3.3,1.0],[4.9,2.4,3.3,1.0],[5.7,2.6,3.5,1.0],[5.6,2.8,4.9,2.0],[6.1,3.0,4.9,1.8],[6.2,2.8,4.8,1.8],[7.0,3.2,4.7,1.4],[6.1,3.0,4.6,1.4],[6.3,2.8,5.1,1.5],[5.7,2.5,5.0,2.0],[6.3,2.7,4.9,1.8],[6.3,2.5,5.0,1.9],[5.9,3.2,4.8,1.8],[6.0,2.7,5.1,1.6],[6.3,3.3,4.7,1.6],[6.4,3.2,4.5,1.5],[6.2,2.9,4.3,1.3],[6.8,2.8,4.8,1.4],[6.7,3.0,5.0,1.7],[5.8,2.7,5.1,1.9],[6.5,3.2,5.1,2.0],[6.1,2.8,4.7,1.2],[6.0,3.4,4.5,1.6],[6.4,2.9,4.3,1.3],[6.9,3.1,4.9,1.5],[6.0,2.9,4.5,1.5],[6.1,2.9,4.7,1.4],[6.3,2.5,4.9,1.5],[6.6,2.9,4.6,1.3],[6.3,2.3,4.4,1.3],[6.6,3.0,4.4,1.4],[6.5,2.8,4.6,1.5],[5.8,2.7,5.1,1.9],[6.0,3.0,4.8,1.8],[6.7,3.1,4.7,1.5],[6.5,3.0,5.2,2.0],[6.0,2.2,5.0,1.5],[6.1,2.6,5.6,1.4],[6.2,2.2,4.5,1.5],[6.4,2.7,5.3,1.9],[6.7,3.1,4.4,1.4],[5.8,2.8,5.1,2.4],[5.9,3.0,5.1,1.8],[4.9,3.1,1.5,0.1],[4.9,3.0,1.4,0.2],[5.4,3.9,1.7,0.4],[5.4,3.7,1.5,0.2],[5.4,3.4,1.7,0.2],[5.8,4.0,1.2,0.2],[5.0,3.2,1.2,0.2],[4.3,3.0,1.1,0.1],[4.5,2.3,1.3,0.3],[4.9,3.1,1.5,0.1],[4.7,3.2,1.6,0.2],[5.5,4.2,1.4,0.2],[5.0,3.4,1.6,0.4],[5.4,3.4,1.5,0.4],[5.1,3.7,1.5,0.4],[4.8,3.0,1.4,0.1],[4.8,3.4,1.9,0.2],[5.1,3.5,1.4,0.2],[4.8,3.1,1.6,0.2],[5.1,3.8,1.6,0.2],[5.7,4.4,1.5,0.4],[4.4,3.0,1.3,0.2],[5.0,3.5,1.3,0.3],[5.0,3.5,1.6,0.6],[4.6,3.6,1.0,0.2],[5.7,3.8,1.7,0.3],[5.5,3.5,1.3,0.2],[4.6,3.2,1.4,0.2],[5.1,3.4,1.5,0.2],[4.8,3.4,1.6,0.2],[5.0,3.0,1.6,0.2],[4.6,3.1,1.5,0.2],[5.4,3.9,1.3,0.4],[5.2,4.1,1.5,0.1],[4.7,3.2,1.3,0.2],[5.3,3.7,1.5,0.2],[4.4,3.2,1.3,0.2],[4.4,2.9,1.4,0.2],[4.9,3.1,1.5,0.1],[5.2,3.4,1.4,0.2],[5.1,3.5,1.4,0.3],[4.8,3.0,1.4,0.3],[5.1,3.8,1.5,0.3],[5.0,3.4,1.5,0.2],[5.1,3.8,1.9,0.4],[5.1,3.3,1.7,0.5],[4.6,3.4,1.4,0.3],[5.2,3.5,1.5,0.2],[5.0,3.3,1.4,0.2],[5.0,3.6,1.4,0.2],[7.6,3.0,6.6,2.1],[6.3,3.4,5.6,2.4],[7.2,3.2,6.0,1.8],[6.9,3.2,5.7,2.3],[7.2,3.6,6.1,2.5],[6.5,3.0,5.8,2.2],[6.7,3.3,5.7,2.5],[7.7,3.0,6.1,2.3],[6.4,3.1,5.5,1.8],[6.7,3.0,5.2,2.3],[7.7,2.8,6.7,2.0],[6.2,3.4,5.4,2.3],[6.7,2.5,5.8,1.8],[6.9,3.1,5.1,2.3],[6.7,3.3,5.7,2.1],[6.9,3.1,5.4,2.1],[7.9,3.8,6.4,2.0],[7.2,3.0,5.8,1.6],[7.4,2.8,6.1,1.9],[7.3,2.9,6.3,1.8],[6.3,2.9,5.6,1.8],[6.5,3.0,5.5,1.8],[6.4,2.8,5.6,2.1],[6.7,3.1,5.6,2.4],[6.4,3.2,5.3,2.3],[6.8,3.0,5.5,2.1],[6.4,2.8,5.6,2.2],[7.1,3.0,5.9,2.1],[7.7,3.8,6.7,2.2],[6.3,3.3,6.0,2.5],[7.7,2.6,6.9,2.3],[6.8,3.2,5.9,2.3]],\"x\":[\"sepal_length\",\"sepal_width\",\"petal_length\",\"petal_width\"],\"y\":[\"versicolor_0\",\"versicolor_20\",\"versicolor_26\",\"versicolor_27\",\"versicolor_38\",\"versicolor_40\",\"versicolor_56\",\"versicolor_67\",\"versicolor_68\",\"virginica_70\",\"versicolor_79\",\"versicolor_80\",\"versicolor_82\",\"versicolor_86\",\"versicolor_88\",\"versicolor_89\",\"versicolor_90\",\"versicolor_91\",\"versicolor_92\",\"versicolor_110\",\"versicolor_114\",\"versicolor_120\",\"versicolor_128\",\"versicolor_136\",\"versicolor_138\",\"versicolor_139\",\"versicolor_142\",\"versicolor_146\",\"virginica_3\",\"virginica_4\",\"virginica_6\",\"versicolor_11\",\"versicolor_12\",\"virginica_15\",\"virginica_24\",\"virginica_25\",\"virginica_30\",\"versicolor_34\",\"versicolor_37\",\"versicolor_39\",\"versicolor_41\",\"versicolor_44\",\"versicolor_45\",\"versicolor_52\",\"virginica_54\",\"virginica_64\",\"versicolor_66\",\"versicolor_69\",\"versicolor_76\",\"versicolor_77\",\"versicolor_78\",\"versicolor_93\",\"versicolor_98\",\"versicolor_100\",\"versicolor_105\",\"versicolor_107\",\"versicolor_109\",\"virginica_115\",\"virginica_116\",\"versicolor_118\",\"virginica_127\",\"virginica_129\",\"virginica_132\",\"versicolor_133\",\"virginica_137\",\"versicolor_140\",\"virginica_143\",\"virginica_147\",\"setosa_1\",\"setosa_9\",\"setosa_10\",\"setosa_13\",\"setosa_16\",\"setosa_17\",\"setosa_18\",\"setosa_21\",\"setosa_23\",\"setosa_28\",\"setosa_32\",\"setosa_33\",\"setosa_35\",\"setosa_36\",\"setosa_42\",\"setosa_47\",\"setosa_49\",\"setosa_51\",\"setosa_55\",\"setosa_57\",\"setosa_58\",\"setosa_60\",\"setosa_61\",\"setosa_63\",\"setosa_65\",\"setosa_71\",\"setosa_74\",\"setosa_75\",\"setosa_83\",\"setosa_84\",\"setosa_85\",\"setosa_87\",\"setosa_94\",\"setosa_95\",\"setosa_97\",\"setosa_99\",\"setosa_102\",\"setosa_103\",\"setosa_106\",\"setosa_117\",\"setosa_119\",\"setosa_121\",\"setosa_122\",\"setosa_124\",\"setosa_125\",\"setosa_126\",\"setosa_131\",\"setosa_134\",\"setosa_144\",\"setosa_149\",\"virginica_2\",\"virginica_5\",\"virginica_7\",\"virginica_8\",\"virginica_14\",\"virginica_19\",\"virginica_22\",\"virginica_29\",\"virginica_31\",\"virginica_43\",\"virginica_46\",\"virginica_48\",\"virginica_50\",\"virginica_53\",\"virginica_59\",\"virginica_62\",\"virginica_72\",\"virginica_73\",\"virginica_81\",\"virginica_96\",\"virginica_101\",\"virginica_104\",\"virginica_108\",\"virginica_111\",\"virginica_112\",\"virginica_113\",\"virginica_123\",\"virginica_130\",\"virginica_135\",\"virginica_141\",\"virginica_145\",\"virginica_148\"]}];",
"            var layout = {\"margin\":{\"l\":100.0},\"title\":\"clustered iris data (k-means clustering)\"};",
"            var config = {};",
"            Plotly.newPlot(\u0027273b6b47-1aa8-4c42-a17d-87a663f0157b\u0027, data, layout, config);",
"});",
"            };",
"            if ((typeof(requirejs) !==  typeof(Function)) || (typeof(requirejs.config) !== typeof(Function))) {",
"                var script = document.createElement(\"script\");",
"                script.setAttribute(\"src\", \"https://cdnjs.cloudflare.com/ajax/libs/require.js/2.3.6/require.min.js\");",
"                script.onload = function(){",
"                    renderPlotly_273b6b471aa84c42a17d87a663f0157b();",
"                };",
"                document.getElementsByTagName(\"head\")[0].appendChild(script);",
"            }",
"            else {",
"                renderPlotly_273b6b471aa84c42a17d87a663f0157b();",
"            }",
"\u003c/script\u003e",
""]
        },
           "execution_count": null,
           "metadata": {},
           "output_type": "execute_result"
          }], 
           "source": ["clusterChart\n"]
          }
,
          {
           "cell_type": "markdown",
           "metadata": {},
           
           "source": ["\u003c/center\u003e\n",
"\n",
"To visualize the result in a three-dimensional chart, three of the four measurements are isolated after clustering and visualized as 3D-scatter plot.\n",
"\n",
"\n"]
          }
,
          {
           "cell_type": "code",
           "metadata": {},
            "execution_count": 12, "outputs": [], 
           "source": ["let clusterChart3D =\n",
"    //group clusters\n",
"    clusteredIrisData\n",
"    |\u003e Seq.groupBy (fun (clusterIndex,label,dataPoint) -\u003e clusterIndex)\n",
"    //for each cluster generate a scatter plot\n",
"    |\u003e Seq.map (fun (clusterIndex,cluster) -\u003e \n",
"        cluster\n",
"        |\u003e Seq.unzip3\n",
"        |\u003e fun (clusterIndex,label,data) -\u003e \n",
"            let clusterName = sprintf \"cluster %i\" (Seq.head clusterIndex)\n",
"            //for 3 dimensional representation isolate sepal length, petal length, and petal width\n",
"            let truncData = data |\u003e Seq.map (fun x -\u003e x.[0],x.[2],x.[3]) \n",
"            Chart.Scatter3d(truncData,mode=StyleParam.Mode.Markers,Name = clusterName,Labels=label)\n",
"        )\n",
"    |\u003e Chart.Combine\n",
"    |\u003e Chart.withTitle \"isolated coordinates of clustered iris data (k-means clustering)\"\n",
"    |\u003e Chart.withX_AxisStyle colNames.[0]\n",
"    |\u003e Chart.withY_AxisStyle colNames.[2]\n",
"    |\u003e Chart.withZ_AxisStyle colNames.[3]\n"]
          }
,
          {
           "cell_type": "markdown",
           "metadata": {},
           
           "source": ["\u003ccenter\u003e\n",
"\n"]
          }
,
          {
           "cell_type": "code",
           "metadata": {},
            "execution_count": null, "outputs": [
          {
           "data": {
            "text/html": ["\u003cdiv id=\"a8bd5848-d7c7-4b64-aa58-a35089188ba9\" style=\"width: 600px; height: 600px;\"\u003e\u003c!-- Plotly chart will be drawn inside this DIV --\u003e\u003c/div\u003e",
"\u003cscript type=\"text/javascript\"\u003e",
"",
"            var renderPlotly_a8bd5848d7c74b64aa58a35089188ba9 = function() {",
"            var fsharpPlotlyRequire = requirejs.config({context:\u0027fsharp-plotly\u0027,paths:{plotly:\u0027https://cdn.plot.ly/plotly-latest.min\u0027}}) || require;",
"            fsharpPlotlyRequire([\u0027plotly\u0027], function(Plotly) {",
"",
"            var data = [{\"type\":\"scatter3d\",\"x\":[5.5,5.6,5.6,5.6,5.6,5.1,5.5,5.0,5.8,4.9,5.8,5.2,5.5,5.7,5.9,6.1,5.7,6.0,5.4,5.5,5.7,5.5,5.6,5.7,5.8,5.0,4.9,5.7],\"y\":[3.8,4.1,4.5,3.9,3.6,3.0,4.4,3.5,4.1,4.5,4.0,3.9,3.7,4.1,4.2,4.0,4.5,4.0,4.5,4.0,4.2,4.0,4.2,4.2,3.9,3.3,3.3,3.5],\"z\":[1.1,1.3,1.5,1.1,1.3,1.1,1.2,1.0,1.0,1.7,1.2,1.4,1.0,1.3,1.5,1.3,1.3,1.0,1.5,1.3,1.3,1.3,1.3,1.2,1.2,1.0,1.0,1.0],\"mode\":\"markers\",\"name\":\"cluster 1\",\"line\":{},\"marker\":{},\"text\":[\"versicolor_0\",\"versicolor_20\",\"versicolor_26\",\"versicolor_27\",\"versicolor_38\",\"versicolor_40\",\"versicolor_56\",\"versicolor_67\",\"versicolor_68\",\"virginica_70\",\"versicolor_79\",\"versicolor_80\",\"versicolor_82\",\"versicolor_86\",\"versicolor_88\",\"versicolor_89\",\"versicolor_90\",\"versicolor_91\",\"versicolor_92\",\"versicolor_110\",\"versicolor_114\",\"versicolor_120\",\"versicolor_128\",\"versicolor_136\",\"versicolor_138\",\"versicolor_139\",\"versicolor_142\",\"versicolor_146\"]},{\"type\":\"scatter3d\",\"x\":[4.9,4.9,5.4,5.4,5.4,5.8,5.0,4.3,4.5,4.9,4.7,5.5,5.0,5.4,5.1,4.8,4.8,5.1,4.8,5.1,5.7,4.4,5.0,5.0,4.6,5.7,5.5,4.6,5.1,4.8,5.0,4.6,5.4,5.2,4.7,5.3,4.4,4.4,4.9,5.2,5.1,4.8,5.1,5.0,5.1,5.1,4.6,5.2,5.0,5.0],\"y\":[1.5,1.4,1.7,1.5,1.7,1.2,1.2,1.1,1.3,1.5,1.6,1.4,1.6,1.5,1.5,1.4,1.9,1.4,1.6,1.6,1.5,1.3,1.3,1.6,1.0,1.7,1.3,1.4,1.5,1.6,1.6,1.5,1.3,1.5,1.3,1.5,1.3,1.4,1.5,1.4,1.4,1.4,1.5,1.5,1.9,1.7,1.4,1.5,1.4,1.4],\"z\":[0.1,0.2,0.4,0.2,0.2,0.2,0.2,0.1,0.3,0.1,0.2,0.2,0.4,0.4,0.4,0.1,0.2,0.2,0.2,0.2,0.4,0.2,0.3,0.6,0.2,0.3,0.2,0.2,0.2,0.2,0.2,0.2,0.4,0.1,0.2,0.2,0.2,0.2,0.1,0.2,0.3,0.3,0.3,0.2,0.4,0.5,0.3,0.2,0.2,0.2],\"mode\":\"markers\",\"name\":\"cluster 3\",\"line\":{},\"marker\":{},\"text\":[\"setosa_1\",\"setosa_9\",\"setosa_10\",\"setosa_13\",\"setosa_16\",\"setosa_17\",\"setosa_18\",\"setosa_21\",\"setosa_23\",\"setosa_28\",\"setosa_32\",\"setosa_33\",\"setosa_35\",\"setosa_36\",\"setosa_42\",\"setosa_47\",\"setosa_49\",\"setosa_51\",\"setosa_55\",\"setosa_57\",\"setosa_58\",\"setosa_60\",\"setosa_61\",\"setosa_63\",\"setosa_65\",\"setosa_71\",\"setosa_74\",\"setosa_75\",\"setosa_83\",\"setosa_84\",\"setosa_85\",\"setosa_87\",\"setosa_94\",\"setosa_95\",\"setosa_97\",\"setosa_99\",\"setosa_102\",\"setosa_103\",\"setosa_106\",\"setosa_117\",\"setosa_119\",\"setosa_121\",\"setosa_122\",\"setosa_124\",\"setosa_125\",\"setosa_126\",\"setosa_131\",\"setosa_134\",\"setosa_144\",\"setosa_149\"]},{\"type\":\"scatter3d\",\"x\":[7.6,6.3,7.2,6.9,7.2,6.5,6.7,7.7,6.4,6.7,7.7,6.2,6.7,6.9,6.7,6.9,7.9,7.2,7.4,7.3,6.3,6.5,6.4,6.7,6.4,6.8,6.4,7.1,7.7,6.3,7.7,6.8],\"y\":[6.6,5.6,6.0,5.7,6.1,5.8,5.7,6.1,5.5,5.2,6.7,5.4,5.8,5.1,5.7,5.4,6.4,5.8,6.1,6.3,5.6,5.5,5.6,5.6,5.3,5.5,5.6,5.9,6.7,6.0,6.9,5.9],\"z\":[2.1,2.4,1.8,2.3,2.5,2.2,2.5,2.3,1.8,2.3,2.0,2.3,1.8,2.3,2.1,2.1,2.0,1.6,1.9,1.8,1.8,1.8,2.1,2.4,2.3,2.1,2.2,2.1,2.2,2.5,2.3,2.3],\"mode\":\"markers\",\"name\":\"cluster 4\",\"line\":{},\"marker\":{},\"text\":[\"virginica_2\",\"virginica_5\",\"virginica_7\",\"virginica_8\",\"virginica_14\",\"virginica_19\",\"virginica_22\",\"virginica_29\",\"virginica_31\",\"virginica_43\",\"virginica_46\",\"virginica_48\",\"virginica_50\",\"virginica_53\",\"virginica_59\",\"virginica_62\",\"virginica_72\",\"virginica_73\",\"virginica_81\",\"virginica_96\",\"virginica_101\",\"virginica_104\",\"virginica_108\",\"virginica_111\",\"virginica_112\",\"virginica_113\",\"virginica_123\",\"virginica_130\",\"virginica_135\",\"virginica_141\",\"virginica_145\",\"virginica_148\"]},{\"type\":\"scatter3d\",\"x\":[5.6,6.1,6.2,7.0,6.1,6.3,5.7,6.3,6.3,5.9,6.0,6.3,6.4,6.2,6.8,6.7,5.8,6.5,6.1,6.0,6.4,6.9,6.0,6.1,6.3,6.6,6.3,6.6,6.5,5.8,6.0,6.7,6.5,6.0,6.1,6.2,6.4,6.7,5.8,5.9],\"y\":[4.9,4.9,4.8,4.7,4.6,5.1,5.0,4.9,5.0,4.8,5.1,4.7,4.5,4.3,4.8,5.0,5.1,5.1,4.7,4.5,4.3,4.9,4.5,4.7,4.9,4.6,4.4,4.4,4.6,5.1,4.8,4.7,5.2,5.0,5.6,4.5,5.3,4.4,5.1,5.1],\"z\":[2.0,1.8,1.8,1.4,1.4,1.5,2.0,1.8,1.9,1.8,1.6,1.6,1.5,1.3,1.4,1.7,1.9,2.0,1.2,1.6,1.3,1.5,1.5,1.4,1.5,1.3,1.3,1.4,1.5,1.9,1.8,1.5,2.0,1.5,1.4,1.5,1.9,1.4,2.4,1.8],\"mode\":\"markers\",\"name\":\"cluster 2\",\"line\":{},\"marker\":{},\"text\":[\"virginica_3\",\"virginica_4\",\"virginica_6\",\"versicolor_11\",\"versicolor_12\",\"virginica_15\",\"virginica_24\",\"virginica_25\",\"virginica_30\",\"versicolor_34\",\"versicolor_37\",\"versicolor_39\",\"versicolor_41\",\"versicolor_44\",\"versicolor_45\",\"versicolor_52\",\"virginica_54\",\"virginica_64\",\"versicolor_66\",\"versicolor_69\",\"versicolor_76\",\"versicolor_77\",\"versicolor_78\",\"versicolor_93\",\"versicolor_98\",\"versicolor_100\",\"versicolor_105\",\"versicolor_107\",\"versicolor_109\",\"virginica_115\",\"virginica_116\",\"versicolor_118\",\"virginica_127\",\"virginica_129\",\"virginica_132\",\"versicolor_133\",\"virginica_137\",\"versicolor_140\",\"virginica_143\",\"virginica_147\"]}];",
"            var layout = {\"title\":\"isolated coordinates of clustered iris data (k-means clustering)\",\"scene\":{\"xaxis\":{\"title\":\"sepal_length\"},\"yaxis\":{\"title\":\"petal_length\"},\"zaxis\":{\"title\":\"petal_width\"}}};",
"            var config = {};",
"            Plotly.newPlot(\u0027a8bd5848-d7c7-4b64-aa58-a35089188ba9\u0027, data, layout, config);",
"});",
"            };",
"            if ((typeof(requirejs) !==  typeof(Function)) || (typeof(requirejs.config) !== typeof(Function))) {",
"                var script = document.createElement(\"script\");",
"                script.setAttribute(\"src\", \"https://cdnjs.cloudflare.com/ajax/libs/require.js/2.3.6/require.min.js\");",
"                script.onload = function(){",
"                    renderPlotly_a8bd5848d7c74b64aa58a35089188ba9();",
"                };",
"                document.getElementsByTagName(\"head\")[0].appendChild(script);",
"            }",
"            else {",
"                renderPlotly_a8bd5848d7c74b64aa58a35089188ba9();",
"            }",
"\u003c/script\u003e",
""]
        },
           "execution_count": null,
           "metadata": {},
           "output_type": "execute_result"
          }], 
           "source": ["clusterChart3D\n"]
          }
,
          {
           "cell_type": "markdown",
           "metadata": {},
           
           "source": ["\u003c/center\u003e\n",
"\n",
"### Optimal cluster number\n",
"\n",
"The identification of the optimal cluster number _k_ in terms of the average squared distance of each point to its centroid \n",
"can be realized by performing the clustering over a range of _k_\u0027s multiple times and taking the _k_ according to the elbow criterion.\n",
"Further more robust and advanced cluster number determination techniques can be found [here](https://fslab.org/FSharp.Stats/Clustering.html#Determining-the-optimal-number-of-clusters).\n",
"\n",
"\n"]
          }
,
          {
           "cell_type": "code",
           "metadata": {},
            "execution_count": 14, "outputs": [], 
           "source": ["let getBestkMeansClustering bootstraps k =\n",
"    let dispersions =\n",
"        Array.init bootstraps (fun _ -\u003e \n",
"            IterativeClustering.kmeans distanceFunction randomInitFactory data k\n",
"            )\n",
"        |\u003e Array.map (fun clusteringResult -\u003e IterativeClustering.DispersionOfClusterResult clusteringResult)\n",
"    Seq.mean dispersions,Seq.stDev dispersions\n",
"\n",
"let iterations = 10\n",
"\n",
"let maximalK = 10\n",
"\n",
"let bestKChart = \n",
"    [2 .. maximalK] \n",
"    |\u003e List.map (fun k -\u003e \n",
"        let mean,stdev = getBestkMeansClustering iterations k\n",
"        k,mean,stdev\n",
"        )\n",
"    |\u003e List.unzip3\n",
"    |\u003e fun (ks,means,stdevs) -\u003e \n",
"        Chart.Line(ks,means)\n",
"        |\u003e Chart.withYErrorStyle(stdevs)\n",
"        |\u003e Chart.withX_AxisStyle \"k\"\n",
"        |\u003e Chart.withY_AxisStyle \"average dispersion\"\n",
"        |\u003e Chart.withTitle \"iris data set average dispersion per k\"\n"]
          }
,
          {
           "cell_type": "markdown",
           "metadata": {},
           
           "source": ["\u003ccenter\u003e\n",
"\n"]
          }
,
          {
           "cell_type": "code",
           "metadata": {},
            "execution_count": null, "outputs": [
          {
           "data": {
            "text/html": ["\u003cdiv id=\"9185e68e-aab3-4224-a478-0f5f4bcbd8ed\" style=\"width: 600px; height: 600px;\"\u003e\u003c!-- Plotly chart will be drawn inside this DIV --\u003e\u003c/div\u003e",
"\u003cscript type=\"text/javascript\"\u003e",
"",
"            var renderPlotly_9185e68eaab34224a4780f5f4bcbd8ed = function() {",
"            var fsharpPlotlyRequire = requirejs.config({context:\u0027fsharp-plotly\u0027,paths:{plotly:\u0027https://cdn.plot.ly/plotly-latest.min\u0027}}) || require;",
"            fsharpPlotlyRequire([\u0027plotly\u0027], function(Plotly) {",
"",
"            var data = [{\"type\":\"scatter\",\"x\":[2,3,4,5,6,7,8,9,10],\"y\":[2.6540379473960134,1.2977359608425183,0.36542290240831854,0.2588623452278495,0.19336093880782348,0.13259414010735115,0.10399025687755428,0.09062364829829123,0.12457693667669408],\"mode\":\"lines\",\"line\":{},\"marker\":{},\"error_y\":{\"array\":[0.0,0.9472269811393812,0.1268575279147374,0.13117552071346897,0.04089371690116834,0.037949679589709094,0.03485104134172333,0.030151982884470244,0.1336653685408711]}}];",
"            var layout = {\"xaxis\":{\"title\":\"k\"},\"yaxis\":{\"title\":\"average dispersion\"},\"title\":\"iris data set average dispersion per k\"};",
"            var config = {};",
"            Plotly.newPlot(\u00279185e68e-aab3-4224-a478-0f5f4bcbd8ed\u0027, data, layout, config);",
"});",
"            };",
"            if ((typeof(requirejs) !==  typeof(Function)) || (typeof(requirejs.config) !== typeof(Function))) {",
"                var script = document.createElement(\"script\");",
"                script.setAttribute(\"src\", \"https://cdnjs.cloudflare.com/ajax/libs/require.js/2.3.6/require.min.js\");",
"                script.onload = function(){",
"                    renderPlotly_9185e68eaab34224a4780f5f4bcbd8ed();",
"                };",
"                document.getElementsByTagName(\"head\")[0].appendChild(script);",
"            }",
"            else {",
"                renderPlotly_9185e68eaab34224a4780f5f4bcbd8ed();",
"            }",
"\u003c/script\u003e",
""]
        },
           "execution_count": null,
           "metadata": {},
           "output_type": "execute_result"
          }], 
           "source": ["bestKChart\n"]
          }
,
          {
           "cell_type": "markdown",
           "metadata": {},
           
           "source": ["\u003c/center\u003e\n",
"\n",
"## Limitations\n",
"\n",
"  1. Outlier have a strong influence on the positioning of the centroids. \n",
"  2. Determining the correct number of clusters in advance is critical. Often it is chosen according to the number of classes present in the dataset which isn\u0027t in the spirit of clustering procedures.\n",
"\n",
"## Notes\n",
"\n",
"  - Please note that depending on what data you want to cluster, a column wise z-score normalization may be required. In the presented example differences in sepal width have a reduced influence because\n",
"  the absolute variation is low.\n",
"\n",
"## References\n",
"\n",
"  - FSharp.Stats documentation, fslaborg, https://fslab.org/FSharp.Stats/Clustering.html\n",
"  - Shraddha and Saganna, A Review On K-means Data Clustering Approach, International Journal of Information \u0026 Computation Technology, Vol:4 No:17, 2014\n",
"  - Moth\u0027d Belal, A New Algorithm for Cluster Initialization, International Journal of Computer and Information Engineering, Vol:1 No:4, 2007\n",
"  - Singh et al., K-means with Three different Distance Metrics, International Journal of Computer Applications, 2013, DOI:10.5120/11430-6785\n",
"  - Kodinariya and Makwana, Review on Determining of Cluster in K-means Clustering, International Journal of Advance Research in Computer Science and Management Studies, 2013\n",
"\n",
"## Further reading\n",
"  \n",
"Examples are taken from [FSharp.Stats documentation](https://fslab.org/FSharp.Stats/Clustering.html) that covers various techniques for an optimal cluster number determination.\n",
"  \n",
"The next article in this series covers [hierarchical clustering using FSharp.Stats](https://fslab.org/content/tutorials/003_clustering_hierarchical.html).\n",
"\n",
"\n"]
          }],
            "metadata": {
            "kernelspec": {"display_name": ".NET (F#)", "language": "F#", "name": ".net-fsharp"},
            "langauge_info": {
        "file_extension": ".fs",
        "mimetype": "text/x-fsharp",
        "name": "C#",
        "pygments_lexer": "fsharp",
        "version": "4.5"
        }
        },
            "nbformat": 4,
            "nbformat_minor": 1
        }
        

