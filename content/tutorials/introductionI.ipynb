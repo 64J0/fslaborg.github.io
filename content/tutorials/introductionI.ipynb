
        {
            "cells": [
          {
           "cell_type": "markdown",
           "metadata": {},
           
           "source": ["# F# Introduction I: Setting up an environment\n",
"\n",
"## Installing Visual Studio Code\n",
"\n",
"Download the recommended [.NET SDK](https://dotnet.microsoft.com/download) for your operating system and install it.\n",
"By Selecting [All .NET downloads](https://dotnet.microsoft.com/download/dotnet) you can between installers for different operating systems.\n",
"![](https://fslab.org/images/DotnetSDK.png)\n",
"Download the latest stable build of [Visual Studio Code](https://code.visualstudio.com/) for your operating system and install it.\n",
"![](https://fslab.org/images/VSCode.png)\n",
"Open Visual Studio Code, navigate to the \"Extensions\" tab and install \"Ionide-fsharp\"\n",
"![](https://fslab.org/images/IonideVSCode.png)\n",
"## Installing Visual Studio\n",
"\n",
"### Windows\n",
"\n",
"Download the desired version of [Visual Studio](https://visualstudio.microsoft.com/downloads/?utm_medium=microsoft\u0026utm_source=docs.microsoft.com\u0026utm_campaign=inline+link\u0026utm_content=download+vs2019)\n",
"![](https://fslab.org/images/VSWindows.png)\n",
"When executing the installer select \".NET desktop development\" under workloads and make sure \"F# desktop language support\" is ticked as well on the right side.\n",
"![](https://fslab.org/images/VSInstaller.png)\n",
"Select any other workloads or individual components you are interested in and start the installation.\n",
"### macOS\n",
"\n",
"Download Visual Studio for Mac [Visual Studio](https://visualstudio.microsoft.com/downloads/?utm_medium=microsoft\u0026utm_source=docs.microsoft.com\u0026utm_campaign=inline+link\u0026utm_content=download+vs2019)\n",
"![](https://fslab.org/images/VSMac.png)\n",
"Run the Installer. F# is installed by default.\n"]
          }],
            "metadata": {
            "kernelspec": {"display_name": ".NET (F#)", "language": "F#", "name": ".net-fsharp"},
            "langauge_info": {
        "file_extension": ".fs",
        "mimetype": "text/x-fsharp",
        "name": "C#",
        "pygments_lexer": "fsharp",
        "version": "4.5"
        }
        },
            "nbformat": 4,
            "nbformat_minor": 1
        }
        

