
        {
            "cells": [
          {
           "cell_type": "markdown",
           "metadata": {},
           
           "source": ["# F# Introduction II: Scripting in F#\n",
"\n",
"## Creating a .fsx file\n",
"\n",
"### Visual Studio\n",
"\n",
"Open Visual Studio and navigate to the \"File\" tab, where you select to create a new file.\n",
"Select the \"F# Script File\" option.\n",
"![](https://fslab.org/images/FsxVS.png)\n",
"You now have a working script file. You can write code and execute it by selecting it and pressing `Alt + Enter`.\n",
"### Visual Studio Code\n",
"\n",
"Open Visual Studio Code and navigate to the \"File\" tab, where you select to create a new file.\n",
"You will then be prompted to select a language. Choose F# there.\n",
"![](https://fslab.org/images/FsxVSCode.png)\n",
"You now have a working script file. You can write code and execute it by selecting it and pressing `Alt + Enter`.\n",
"When you are done with your file save it as .fsx.\n",
"## Referencing packages\n",
"\n",
"\n"]
          }
,
          {
           "cell_type": "code",
           "metadata": {},
            "execution_count": 2, "outputs": [],
           "source": ["// References the latest stable package\n",
"#r \"nuget: FSharp.Stats\"\n",
"// References a sepcific package version\n",
"#r \"nuget: Plotly.NET, 2.0.0-preview.16\"\n",
"#r \"nuget: Plotly.NET.Interactive, 2.0.0-preview.16\"\n"]
          }
,
          {
           "cell_type": "markdown",
           "metadata": {},
           
           "source": ["\n"]
          }
,
          {
           "cell_type": "code",
           "metadata": {},
            "execution_count": null, "outputs": [],
           "source": ["#r @\"Your\\Path\\To\\Package\\PackageName.dll\"\n"]
          }
,
          {
           "cell_type": "markdown",
           "metadata": {},
           
           "source": ["## Working with notebooks\n",
"\n",
"Visual Studio Code supports working with notebooks\n",
"To work with notebooks, you need to install the [.NET Interactive Notebooks](https://marketplace.visualstudio.com/items?itemName=ms-dotnettools.dotnet-interactive-vscode) extension.\n",
"![](https://fslab.org/images/NotebooksExt.png)\n",
"A new Notebook can be opened by pressing `Ctrl + Shift + P` and selecting \".NET Interactive: Create new blank notebook\".\n",
"You will then be prompted to create it either as .dib or .ipynb.\n",
"When asked for the language, choose F#\n",
"Notebooks contain Text- and Codeblocks:\n",
"Adding a new Text- or Codeblock can be done by hovering at the upper or lower border of an existing block or upper part of the notebook and pressing `+Code` or `+Markdown`\n",
"![](https://fslab.org/images/NBBlock.png)\n",
"Working with Textblocks:\n",
"You can edit a Textblock by doubleklicking on it. Inside a Textblock you can write plain text or style it with [Markdown](https://en.wikipedia.org/wiki/Markdown).\n",
"Once you are finished you can press the `Esc` button.\n",
"Working with Codeblocks:\n",
"You can start editing any Codeblock by clicking in it. In there you can start writing your own code or edit existing code. Once you are done you can execute the Codeblock by pressing `Ctrl + Alt + Enter`.\n",
"If you want to execute all codeblocks at once, you can press on the two arrows in the upper left corner of the notebook.\n"]
          }],
            "metadata": {
            "kernelspec": {"display_name": ".NET (F#)", "language": "F#", "name": ".net-fsharp"},
            "langauge_info": {
        "file_extension": ".fs",
        "mimetype": "text/x-fsharp",
        "name": "C#",
        "pygments_lexer": "fsharp",
        "version": "4.5"
        }
        },
            "nbformat": 4,
            "nbformat_minor": 1
        }
        

