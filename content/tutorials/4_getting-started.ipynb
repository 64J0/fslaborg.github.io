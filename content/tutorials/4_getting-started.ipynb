
        {
            "cells": [
          {
           "cell_type": "code",
           "metadata": {},
            "execution_count": null, "outputs": [], 
           "source": ["#r \"nuget: Deedle\"\n",
"#r \"nuget: FSharp.Stats\"\n",
"#r \"nuget: Plotly.NET, 2.0.0-beta5\"\n",
"#r \"nuget: Plotly.NET.Interactive, 2.0.0-beta5\"\n",
"#r \"nuget: FSharp.Data\"\n"]
          }
,
          {
           "cell_type": "markdown",
           "metadata": {},
           
           "source": ["# Getting started\n",
"\n",
"Glad to see you here! Now that you found out and learned about FsLab, this section aims to illustrate how FsLab packages synergize and can be used to tackle\n",
"practical data science challenges. Note that every package used througout the tutorial has its own documentation so if you are interested in Deedle (link), FSharp.Stats or Plotly.Net feel free to take a deeper dive.\n",
"\n",
"## Referencing packages\n",
"\n",
"FsLab is a meant to be a project incubation space and can be thought of as a safe heaven for both, package developers and package users by providing guidelines and tutorials. Packages provided by the community can be used on their own, in combination with other FsLab packages but also in combination with any other .netstandard 2.0 compatible package. From F# 5.0 on packages can be referenced using the following notation:\n",
"\n"]
          }
,
          {
           "cell_type": "code",
           "metadata": {},
            "execution_count": null, "outputs": [], 
           "source": ["// Packages hosted by the Fslab community\n",
"#r \"nuget: Deedle\"\n",
"#r \"nuget: FSharp.Stats\"\n",
"// third party .net packages \n",
"#r \"nuget: Plotly.NET, 2.0.0-beta5\"\n",
"#r \"nuget: Plotly.NET.Interactive, 2.0.0-beta5\"\n",
"#r \"nuget: FSharp.Data\"\n"]
          }
,
          {
           "cell_type": "markdown",
           "metadata": {},
           
           "source": ["after referencing the packages one can access their namespaces and use provided functions. In the following example we will reference the\n",
"top level namespaces and then use a function provided by the FSharp.Stats package to calculate a factorial:\n",
"\n"]
          }
,
          {
           "cell_type": "code",
           "metadata": {},
            "execution_count": 3, "outputs": [], 
           "source": ["open Deedle\n",
"open FSharp.Stats\n",
"open Plotly.NET\n",
"open FSharp.Data\n",
"\n",
"SpecialFunctions.Factorial.factorial 3\n"]
          }
,
          {
           "cell_type": "markdown",
           "metadata": {},
           
           "source": ["## Data access\n",
"Equipped with these packages we are now ready to tackle promises made in the first paragraph: solving a practical data science problem. We will start by retrieving the data using the FSharp.Data package, subsequently we will use Deedle (link), a powerful data frame library that makes tabular data accessible by data frame programming. (Note that the chosen names give insight on their type, however thanks to FSharp being a strongly typed language and the we can at any time hower over single values to see the assigned type.)\n",
"\n"]
          }
,
          {
           "cell_type": "code",
           "metadata": {},
            "execution_count": 4, "outputs": [], 
           "source": ["// Retrieve data using the FSharp.Data package\n",
"let rawData = Http.RequestString @\"https://raw.githubusercontent.com/dotnet/machinelearning/master/test/data/housing.txt\"\n",
"\n",
"// Use .net Core functions to convert the retrieved string to a stream\n",
"let dataAsStream = new System.IO.MemoryStream(rawData |\u003e System.Text.Encoding.UTF8.GetBytes) \n",
"\n",
"// And finally create a data frame object using the ReadCsv method provided by Deedle.\n",
"// Note: Of course you can directly provide the path to a local source.\n",
"let dataAsFrame = Frame.ReadCsv(dataAsStream,hasHeaders=true,separators=\"\\t\")\n",
"\n",
"// Using the Print() method, we can use the Deedle pretty printer to have a look at the data set.\n",
"dataAsFrame.Print()\n"]
          }
,
          {
           "cell_type": "markdown",
           "metadata": {},
           
           "source": ["## Data crunching\n",
"The data set of choice is the boston housing data set. As you can see from analyzing the printed output, it consists of 506 rows. Each row represents a house in the boston city area and each column encodes a feature/variable, such as the number of rooms per dwelling (RoomsPerDwelling), Median value of owner-occupied homes in $1000\u0027s (MedianHomeValue) and even variables indicating if the house is bordering river charles (CharlesRiver, value = 1) or not (CharlesRiver, value = 0). \n",
"\n",
"Lets say in our analysis we are only interested in the variables just described, furthermore we only want to keep rows where the value of the indicator variable is 0. We can use Deedle to easily create a new frame that fullfills our criteria. In this example we also cast the value of the column \"CharlesRiver\" to be of type bool, this illustrates how data frame programming can become typesafe using deedle.\n",
"\n"]
          }
,
          {
           "cell_type": "code",
           "metadata": {},
            "execution_count": 5, "outputs": [], 
           "source": ["let housesNotAtRiver = \n",
"    dataAsFrame\n",
"    |\u003e Frame.sliceCols [\"RoomsPerDwelling\";\"MedianHomeValue\";\"CharlesRiver\"]\n",
"    |\u003e Frame.filterRowValues (fun s -\u003e s.GetAs\u003cbool\u003e(\"CharlesRiver\") |\u003e not ) \n",
"\n",
"housesNotAtRiver.Print()\n",
"sprintf \"The new frame does now contain: %i rows and %i columns\" housesNotAtRiver.RowCount housesNotAtRiver.ColumnCount\n"]
          }
,
          {
           "cell_type": "markdown",
           "metadata": {},
           
           "source": ["## Data exploration\n",
"\n",
"Exploratory data analysis is an approach favored by many - to meet this demand we strongly advertise the use of Plotly.Net. The following snippet illustrates how we can access a column of a data frame and create an interactive chart in no time. Since we might want an idea of the distribution of the house prices a histogram can come in handy: \n",
"\n"]
          }
,
          {
           "cell_type": "code",
           "metadata": {},
            "execution_count": 6, "outputs": [
          {
           "data": {
            "text/plain": ["No value returned by any evaluator"]
        },
           "execution_count": 6,
           "metadata": {},
           "output_type": "execute_result"
          }], 
           "source": ["// Note that we explicitly specify that we want to work with the values as floats. \n",
"// Since the row identity is not needed anymore when plotting the distribution we can\n",
"// directly convert the collection to a FSharp Sequence. \n",
"let pricesNotAtRiver : seq\u003cfloat\u003e = \n",
"    housesNotAtRiver\n",
"    |\u003e Frame.getCol \"MedianHomeValue\"\n",
"    |\u003e Series.values\n",
"    \n",
"let h1 = \n",
"    Chart.Histogram(pricesNotAtRiver)\n",
"    |\u003e Chart.withX_AxisStyle(\"median value of owner occupied homes in 1000s\")\n",
"    |\u003e Chart.withX_AxisStyle(\"price distribution\")\n"]
          }
,
          {
           "cell_type": "markdown",
           "metadata": {},
           
           "source": ["Since plotly charts are interactive they invite us to combine mutliple charts. Let repeat the filter step and see if houses that are located at the river show a similar distribution:\n",
"\n"]
          }
,
          {
           "cell_type": "code",
           "metadata": {},
            "execution_count": 8, "outputs": [
          {
           "data": {
            "text/plain": ["No value returned by any evaluator"]
        },
           "execution_count": 8,
           "metadata": {},
           "output_type": "execute_result"
          }], 
           "source": ["let housesAtRiver = \n",
"    dataAsFrame\n",
"    |\u003e Frame.sliceCols [\"RoomsPerDwelling\";\"MedianHomeValue\";\"CharlesRiver\"]\n",
"    |\u003e Frame.filterRowValues (fun s -\u003e s.GetAs\u003cbool\u003e(\"CharlesRiver\"))\n",
"\n",
"let pricesAtRiver : seq\u003cfloat\u003e = \n",
"    housesAtRiver\n",
"    |\u003e Frame.getCol \"MedianHomeValue\"\n",
"    |\u003e Series.values\n",
"\n",
"let h2 =     \n",
"    [\n",
"    Chart.Histogram(pricesNotAtRiver)\n",
"    |\u003e Chart.withTraceName \"not at river\"\n",
"    Chart.Histogram(pricesAtRiver)\n",
"    |\u003e Chart.withTraceName \"at river\"\n",
"    ]\n",
"    |\u003e Chart.Combine\n",
"    |\u003e Chart.withX_AxisStyle(\"median value of owner occupied homes in 1000s\")\n",
"    |\u003e Chart.withX_AxisStyle(\"Comparison of price distributions\")\n"]
          }
,
          {
           "cell_type": "markdown",
           "metadata": {},
           
           "source": ["The interactive chart allows us to compare the distributions directly. We can now reconstruct our own idea of the city of boston, the sampled area, just by looking at the data e.g.:\n",
"\n",
"Assuming that the sampling process was homogenous while observing that there are much more houses sampled that are not located on the riverside could indicate that a spot on the river is a scarce commodity.\n",
"This could also be backed by analyzing the tails of the distribution: it seems that houses located at the river are given a head-start in their assigned value - the distribution of the riverside houses is truncated on the left. \n",
"\n",
"Suppose we would have a customer that wants two models, one to predict the prices of a house at the riverside and one that predicts the prices if this is not the case, then we can meet this demand by using FSharp.Stats in combination with Deedle. Of course we need a variable that is indicative of the house price, in this we will check if the number of rooms per dwelling correlates with the house value:\n",
"\n"]
          }
,
          {
           "cell_type": "code",
           "metadata": {},
            "execution_count": 10, "outputs": [
          {
           "data": {
            "text/plain": ["No value returned by any evaluator"]
        },
           "execution_count": 10,
           "metadata": {},
           "output_type": "execute_result"
          }], 
           "source": ["let pricesAll :Series\u003cint,float\u003e = \n",
"    dataAsFrame\n",
"    |\u003e Frame.getCol \"MedianHomeValue\"\n",
"\n",
"let roomsPerDwellingAll :Series\u003cint,float\u003e = \n",
"    dataAsFrame\n",
"    |\u003e Frame.getCol \"RoomsPerDwelling\"   \n",
"\n",
"let correlation = \n",
"    let tmpPrices,tmpRooms = \n",
"        Series.zipInner pricesAll roomsPerDwellingAll    \n",
"        |\u003e Series.values \n",
"        |\u003e Seq.unzip\n",
"    Correlation.Seq.pearson tmpPrices tmpRooms\n",
"                                              \n"]
          }
,
          {
           "cell_type": "markdown",
           "metadata": {},
           
           "source": ["So indeed, the number of rooms per dwelling shows a positiv correlation with the house prices. With a pearson correlation of ~0.7 it does not explain the house prices completely - but this is nothing that really surprises us, as one of our hypothesis is that the location (e.g. riverside) does also have influence on the price -  however, it should be sufficient to create a linear model. \n",
"\n",
"So now we will use FSharp.Stats to build the two linear models ordered by the hypothetical customer. We start by defining a function that performs the fitting and plots the result:\n",
"\n"]
          }
,
          {
           "cell_type": "code",
           "metadata": {},
            "execution_count": 12, "outputs": [], 
           "source": ["open Fitting.LinearRegression.OrdinaryLeastSquares\n",
"\n",
"let predictPricesByRooms description data = \n",
"    let pricesAll :Series\u003c_,float\u003e = \n",
"        data\n",
"        |\u003e Frame.getCol \"MedianHomeValue\"\n",
"\n",
"    let roomsPerDwellingAll :Series\u003c_,float\u003e = \n",
"        data\n",
"        |\u003e Frame.getCol \"RoomsPerDwelling\"   \n",
"\n",
"    let fit = \n",
"        let tmpRooms, tmpPrices = \n",
"            Series.zipInner roomsPerDwellingAll pricesAll    \n",
"            |\u003e Series.sortBy fst\n",
"            |\u003e Series.values \n",
"            |\u003e Seq.unzip\n",
"        let coeffs = Linear.Univariable.coefficient (vector tmpRooms) (vector tmpPrices)\n",
"        let model  = Linear.Univariable.fit coeffs \n",
"        let predictedPrices = tmpRooms |\u003e Seq.map model\n",
"        [\n",
"        Chart.Point(tmpRooms,tmpPrices)\n",
"        |\u003e Chart.withTraceName (sprintf \"%s: data\" description )\n",
"        Chart.Line(tmpRooms,predictedPrices)\n",
"        |\u003e Chart.withTraceName (sprintf \"%s: coefficients: intercept:%f, slope:%f\" description coeffs.[0] coeffs.[1])\n",
"        ]                                  \n",
"        |\u003e Chart.Combine\n",
"        |\u003e Chart.withX_AxisStyle(\"rooms per dwelling\")\n",
"        |\u003e Chart.withY_AxisStyle(\"median value\")\n",
"    fit   \n"]
          }
,
          {
           "cell_type": "markdown",
           "metadata": {},
           
           "source": ["Afterwards, we can apply the function on our prepared datasets and have a look at the model and especially the model coefficients. \n",
"\n"]
          }
,
          {
           "cell_type": "code",
           "metadata": {},
            "execution_count": 13, "outputs": [
          {
           "data": {
            "text/plain": ["No value returned by any evaluator"]
        },
           "execution_count": 13,
           "metadata": {},
           "output_type": "execute_result"
          }], 
           "source": ["let modelVis = \n",
"    [\n",
"    predictPricesByRooms \"not at river\" housesNotAtRiver\n",
"    predictPricesByRooms \"at river\" housesAtRiver\n",
"    ]\n",
"    |\u003e Chart.Combine\n",
"    |\u003e Chart.withSize(1200.,700.)\n"]
          }
,
          {
           "cell_type": "markdown",
           "metadata": {},
           
           "source": ["Both models approximate the data in a reasonable way. When we inspect the coefficients, we see that the models only differ slightly in slope, but have an absolute offset of ~7.5. This observation complements the insights gained by the explorative data analysis approach using the histogram! \n",
"\n"]
          }],
            "metadata": {
            "kernelspec": {"display_name": ".NET (F#)", "language": "F#", "name": ".net-fsharp"},
            "langauge_info": {
        "file_extension": ".fs",
        "mimetype": "text/x-fsharp",
        "name": "C#",
        "pygments_lexer": "fsharp",
        "version": "4.5"
        }
        },
            "nbformat": 4,
            "nbformat_minor": 1
        }
        

